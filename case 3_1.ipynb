{
 "cells": [
  {
   "cell_type": "code",
   "execution_count": 2798,
   "id": "df39e593",
   "metadata": {},
   "outputs": [],
   "source": [
    "import warnings\n",
    "# warnings.simplefilter(action='ignore', category=FutureWarning)\n",
    "warnings.filterwarnings(\"ignore\")\n",
    "\n",
    "import pandas as pd\n",
    "import numpy as np\n",
    "import matplotlib.pyplot as plt\n",
    "%matplotlib inline\n",
    "import seaborn as sns\n",
    "\n",
    "from sklearn.model_selection import train_test_split\n",
    "from sklearn.metrics import mean_absolute_error, mean_squared_error\n",
    "from sklearn.metrics import r2_score\n",
    "from tensorflow.keras.models import Sequential\n",
    "from tensorflow.keras.layers import Dense, Normalization\n",
    "import tensorflow as tf"
   ]
  },
  {
   "cell_type": "code",
   "execution_count": 2799,
   "id": "d341f333",
   "metadata": {},
   "outputs": [
    {
     "data": {
      "text/html": [
       "<div>\n",
       "<style scoped>\n",
       "    .dataframe tbody tr th:only-of-type {\n",
       "        vertical-align: middle;\n",
       "    }\n",
       "\n",
       "    .dataframe tbody tr th {\n",
       "        vertical-align: top;\n",
       "    }\n",
       "\n",
       "    .dataframe thead th {\n",
       "        text-align: right;\n",
       "    }\n",
       "</style>\n",
       "<table border=\"1\" class=\"dataframe\">\n",
       "  <thead>\n",
       "    <tr style=\"text-align: right;\">\n",
       "      <th></th>\n",
       "      <th>IW</th>\n",
       "      <th>IF</th>\n",
       "      <th>VW</th>\n",
       "      <th>FP</th>\n",
       "      <th>Depth</th>\n",
       "      <th>Width</th>\n",
       "    </tr>\n",
       "  </thead>\n",
       "  <tbody>\n",
       "    <tr>\n",
       "      <th>0</th>\n",
       "      <td>47</td>\n",
       "      <td>139</td>\n",
       "      <td>4.5</td>\n",
       "      <td>80</td>\n",
       "      <td>1.60</td>\n",
       "      <td>2.54</td>\n",
       "    </tr>\n",
       "    <tr>\n",
       "      <th>1</th>\n",
       "      <td>47</td>\n",
       "      <td>139</td>\n",
       "      <td>4.5</td>\n",
       "      <td>80</td>\n",
       "      <td>1.62</td>\n",
       "      <td>2.50</td>\n",
       "    </tr>\n",
       "    <tr>\n",
       "      <th>2</th>\n",
       "      <td>47</td>\n",
       "      <td>139</td>\n",
       "      <td>4.5</td>\n",
       "      <td>80</td>\n",
       "      <td>1.68</td>\n",
       "      <td>2.60</td>\n",
       "    </tr>\n",
       "    <tr>\n",
       "      <th>3</th>\n",
       "      <td>47</td>\n",
       "      <td>139</td>\n",
       "      <td>4.5</td>\n",
       "      <td>80</td>\n",
       "      <td>1.58</td>\n",
       "      <td>2.52</td>\n",
       "    </tr>\n",
       "    <tr>\n",
       "      <th>4</th>\n",
       "      <td>45</td>\n",
       "      <td>140</td>\n",
       "      <td>4.5</td>\n",
       "      <td>80</td>\n",
       "      <td>1.76</td>\n",
       "      <td>2.48</td>\n",
       "    </tr>\n",
       "  </tbody>\n",
       "</table>\n",
       "</div>"
      ],
      "text/plain": [
       "   IW   IF   VW  FP  Depth  Width\n",
       "0  47  139  4.5  80   1.60   2.54\n",
       "1  47  139  4.5  80   1.62   2.50\n",
       "2  47  139  4.5  80   1.68   2.60\n",
       "3  47  139  4.5  80   1.58   2.52\n",
       "4  45  140  4.5  80   1.76   2.48"
      ]
     },
     "execution_count": 2799,
     "metadata": {},
     "output_type": "execute_result"
    }
   ],
   "source": [
    "# Read in data into a dataframe\n",
    "data = pd.read_csv('ebw_data.csv')\n",
    "\n",
    "# Display top of dataframe\n",
    "data.head()"
   ]
  },
  {
   "cell_type": "code",
   "execution_count": 2800,
   "id": "74fb1a6a",
   "metadata": {},
   "outputs": [
    {
     "data": {
      "text/html": [
       "<div>\n",
       "<style scoped>\n",
       "    .dataframe tbody tr th:only-of-type {\n",
       "        vertical-align: middle;\n",
       "    }\n",
       "\n",
       "    .dataframe tbody tr th {\n",
       "        vertical-align: top;\n",
       "    }\n",
       "\n",
       "    .dataframe thead th {\n",
       "        text-align: right;\n",
       "    }\n",
       "</style>\n",
       "<table border=\"1\" class=\"dataframe\">\n",
       "  <thead>\n",
       "    <tr style=\"text-align: right;\">\n",
       "      <th></th>\n",
       "      <th>IW</th>\n",
       "      <th>IF</th>\n",
       "      <th>VW</th>\n",
       "      <th>FP</th>\n",
       "      <th>Depth</th>\n",
       "      <th>Width</th>\n",
       "    </tr>\n",
       "  </thead>\n",
       "  <tbody>\n",
       "    <tr>\n",
       "      <th>count</th>\n",
       "      <td>72.000000</td>\n",
       "      <td>72.000000</td>\n",
       "      <td>72.000000</td>\n",
       "      <td>72.000000</td>\n",
       "      <td>72.000000</td>\n",
       "      <td>72.000000</td>\n",
       "    </tr>\n",
       "    <tr>\n",
       "      <th>mean</th>\n",
       "      <td>45.666667</td>\n",
       "      <td>141.333333</td>\n",
       "      <td>8.638889</td>\n",
       "      <td>78.333333</td>\n",
       "      <td>1.195556</td>\n",
       "      <td>1.970417</td>\n",
       "    </tr>\n",
       "    <tr>\n",
       "      <th>std</th>\n",
       "      <td>1.678363</td>\n",
       "      <td>5.145763</td>\n",
       "      <td>2.061078</td>\n",
       "      <td>21.493530</td>\n",
       "      <td>0.225081</td>\n",
       "      <td>0.279040</td>\n",
       "    </tr>\n",
       "    <tr>\n",
       "      <th>min</th>\n",
       "      <td>43.000000</td>\n",
       "      <td>131.000000</td>\n",
       "      <td>4.500000</td>\n",
       "      <td>50.000000</td>\n",
       "      <td>0.800000</td>\n",
       "      <td>1.680000</td>\n",
       "    </tr>\n",
       "    <tr>\n",
       "      <th>25%</th>\n",
       "      <td>44.000000</td>\n",
       "      <td>139.000000</td>\n",
       "      <td>8.000000</td>\n",
       "      <td>60.000000</td>\n",
       "      <td>1.080000</td>\n",
       "      <td>1.760000</td>\n",
       "    </tr>\n",
       "    <tr>\n",
       "      <th>50%</th>\n",
       "      <td>45.500000</td>\n",
       "      <td>141.000000</td>\n",
       "      <td>9.000000</td>\n",
       "      <td>80.000000</td>\n",
       "      <td>1.200000</td>\n",
       "      <td>1.840000</td>\n",
       "    </tr>\n",
       "    <tr>\n",
       "      <th>75%</th>\n",
       "      <td>47.000000</td>\n",
       "      <td>146.000000</td>\n",
       "      <td>10.000000</td>\n",
       "      <td>80.000000</td>\n",
       "      <td>1.290000</td>\n",
       "      <td>2.050000</td>\n",
       "    </tr>\n",
       "    <tr>\n",
       "      <th>max</th>\n",
       "      <td>49.000000</td>\n",
       "      <td>150.000000</td>\n",
       "      <td>12.000000</td>\n",
       "      <td>125.000000</td>\n",
       "      <td>1.760000</td>\n",
       "      <td>2.600000</td>\n",
       "    </tr>\n",
       "  </tbody>\n",
       "</table>\n",
       "</div>"
      ],
      "text/plain": [
       "              IW          IF         VW          FP      Depth      Width\n",
       "count  72.000000   72.000000  72.000000   72.000000  72.000000  72.000000\n",
       "mean   45.666667  141.333333   8.638889   78.333333   1.195556   1.970417\n",
       "std     1.678363    5.145763   2.061078   21.493530   0.225081   0.279040\n",
       "min    43.000000  131.000000   4.500000   50.000000   0.800000   1.680000\n",
       "25%    44.000000  139.000000   8.000000   60.000000   1.080000   1.760000\n",
       "50%    45.500000  141.000000   9.000000   80.000000   1.200000   1.840000\n",
       "75%    47.000000  146.000000  10.000000   80.000000   1.290000   2.050000\n",
       "max    49.000000  150.000000  12.000000  125.000000   1.760000   2.600000"
      ]
     },
     "execution_count": 2800,
     "metadata": {},
     "output_type": "execute_result"
    }
   ],
   "source": [
    "data.describe()"
   ]
  },
  {
   "cell_type": "code",
   "execution_count": 2801,
   "id": "76fbbe0d",
   "metadata": {},
   "outputs": [
    {
     "data": {
      "text/plain": [
       "<AxesSubplot: >"
      ]
     },
     "execution_count": 2801,
     "metadata": {},
     "output_type": "execute_result"
    },
    {
     "data": {
      "image/png": "[encoded data removed]",
      "text/plain": [
       "<Figure size 640x480 with 1 Axes>"
      ]
     },
     "metadata": {},
     "output_type": "display_data"
    }
   ],
   "source": [
    "data.plot()"
   ]
  },
  {
   "cell_type": "code",
   "execution_count": 2802,
   "id": "cae60f10",
   "metadata": {},
   "outputs": [
    {
     "name": "stdout",
     "output_type": "stream",
     "text": [
      "<class 'pandas.core.frame.DataFrame'>\n",
      "RangeIndex: 72 entries, 0 to 71\n",
      "Data columns (total 6 columns):\n",
      " #   Column  Non-Null Count  Dtype  \n",
      "---  ------  --------------  -----  \n",
      " 0   IW      72 non-null     int64  \n",
      " 1   IF      72 non-null     int64  \n",
      " 2   VW      72 non-null     float64\n",
      " 3   FP      72 non-null     int64  \n",
      " 4   Depth   72 non-null     float64\n",
      " 5   Width   72 non-null     float64\n",
      "dtypes: float64(3), int64(3)\n",
      "memory usage: 3.5 KB\n"
     ]
    }
   ],
   "source": [
    "# See the column data types and non-missing values\n",
    "data.info()"
   ]
  },
  {
   "cell_type": "code",
   "execution_count": 2803,
   "id": "60da3f52",
   "metadata": {},
   "outputs": [
    {
     "data": {
      "text/html": [
       "<div>\n",
       "<style scoped>\n",
       "    .dataframe tbody tr th:only-of-type {\n",
       "        vertical-align: middle;\n",
       "    }\n",
       "\n",
       "    .dataframe tbody tr th {\n",
       "        vertical-align: top;\n",
       "    }\n",
       "\n",
       "    .dataframe thead th {\n",
       "        text-align: right;\n",
       "    }\n",
       "</style>\n",
       "<table border=\"1\" class=\"dataframe\">\n",
       "  <thead>\n",
       "    <tr style=\"text-align: right;\">\n",
       "      <th></th>\n",
       "      <th>IW</th>\n",
       "      <th>IF</th>\n",
       "      <th>VW</th>\n",
       "      <th>FP</th>\n",
       "      <th>Depth</th>\n",
       "      <th>Width</th>\n",
       "    </tr>\n",
       "  </thead>\n",
       "  <tbody>\n",
       "    <tr>\n",
       "      <th>11</th>\n",
       "      <td>45</td>\n",
       "      <td>140</td>\n",
       "      <td>8.0</td>\n",
       "      <td>80</td>\n",
       "      <td>1.20</td>\n",
       "      <td>1.96</td>\n",
       "    </tr>\n",
       "    <tr>\n",
       "      <th>31</th>\n",
       "      <td>47</td>\n",
       "      <td>139</td>\n",
       "      <td>4.5</td>\n",
       "      <td>80</td>\n",
       "      <td>1.36</td>\n",
       "      <td>2.48</td>\n",
       "    </tr>\n",
       "    <tr>\n",
       "      <th>46</th>\n",
       "      <td>46</td>\n",
       "      <td>146</td>\n",
       "      <td>10.0</td>\n",
       "      <td>60</td>\n",
       "      <td>1.36</td>\n",
       "      <td>1.76</td>\n",
       "    </tr>\n",
       "    <tr>\n",
       "      <th>54</th>\n",
       "      <td>43</td>\n",
       "      <td>150</td>\n",
       "      <td>9.0</td>\n",
       "      <td>50</td>\n",
       "      <td>1.08</td>\n",
       "      <td>1.82</td>\n",
       "    </tr>\n",
       "    <tr>\n",
       "      <th>55</th>\n",
       "      <td>43</td>\n",
       "      <td>150</td>\n",
       "      <td>9.0</td>\n",
       "      <td>50</td>\n",
       "      <td>1.08</td>\n",
       "      <td>1.82</td>\n",
       "    </tr>\n",
       "    <tr>\n",
       "      <th>59</th>\n",
       "      <td>44</td>\n",
       "      <td>146</td>\n",
       "      <td>9.0</td>\n",
       "      <td>60</td>\n",
       "      <td>1.20</td>\n",
       "      <td>1.76</td>\n",
       "    </tr>\n",
       "    <tr>\n",
       "      <th>70</th>\n",
       "      <td>45</td>\n",
       "      <td>146</td>\n",
       "      <td>9.0</td>\n",
       "      <td>60</td>\n",
       "      <td>1.28</td>\n",
       "      <td>1.76</td>\n",
       "    </tr>\n",
       "  </tbody>\n",
       "</table>\n",
       "</div>"
      ],
      "text/plain": [
       "    IW   IF    VW  FP  Depth  Width\n",
       "11  45  140   8.0  80   1.20   1.96\n",
       "31  47  139   4.5  80   1.36   2.48\n",
       "46  46  146  10.0  60   1.36   1.76\n",
       "54  43  150   9.0  50   1.08   1.82\n",
       "55  43  150   9.0  50   1.08   1.82\n",
       "59  44  146   9.0  60   1.20   1.76\n",
       "70  45  146   9.0  60   1.28   1.76"
      ]
     },
     "execution_count": 2803,
     "metadata": {},
     "output_type": "execute_result"
    }
   ],
   "source": [
    "# Find duplicates\n",
    "data[data.duplicated()]"
   ]
  },
  {
   "cell_type": "code",
   "execution_count": 2804,
   "id": "e44ca6ac",
   "metadata": {},
   "outputs": [
    {
     "name": "stdout",
     "output_type": "stream",
     "text": [
      "<class 'pandas.core.frame.DataFrame'>\n",
      "Int64Index: 65 entries, 0 to 71\n",
      "Data columns (total 6 columns):\n",
      " #   Column  Non-Null Count  Dtype  \n",
      "---  ------  --------------  -----  \n",
      " 0   IW      65 non-null     int64  \n",
      " 1   IF      65 non-null     int64  \n",
      " 2   VW      65 non-null     float64\n",
      " 3   FP      65 non-null     int64  \n",
      " 4   Depth   65 non-null     float64\n",
      " 5   Width   65 non-null     float64\n",
      "dtypes: float64(3), int64(3)\n",
      "memory usage: 3.6 KB\n"
     ]
    }
   ],
   "source": [
    "# Drop duplicated rows, keep first\n",
    "data = data.drop_duplicates(keep='first')\n",
    "data.info()"
   ]
  },
  {
   "cell_type": "code",
   "execution_count": 2805,
   "id": "615625bd",
   "metadata": {},
   "outputs": [
    {
     "data": {
      "text/plain": [
       "VW      -0.873454\n",
       "IF      -0.492898\n",
       "FP       0.394702\n",
       "IW       0.413800\n",
       "Depth    0.433860\n",
       "Width    1.000000\n",
       "Name: Width, dtype: float64"
      ]
     },
     "execution_count": 2805,
     "metadata": {},
     "output_type": "execute_result"
    }
   ],
   "source": [
    "# Find all correlations with the Width and sort\n",
    "data.corr()['Width'].sort_values()"
   ]
  },
  {
   "cell_type": "code",
   "execution_count": 2806,
   "id": "3320ef49",
   "metadata": {},
   "outputs": [
    {
     "data": {
      "text/plain": [
       "VW      -0.687108\n",
       "FP      -0.546500\n",
       "IW      -0.341494\n",
       "IF       0.421896\n",
       "Width    0.433860\n",
       "Depth    1.000000\n",
       "Name: Depth, dtype: float64"
      ]
     },
     "execution_count": 2806,
     "metadata": {},
     "output_type": "execute_result"
    }
   ],
   "source": [
    "# Find all correlations with the Width and sort\n",
    "data.corr()['Depth'].sort_values()"
   ]
  },
  {
   "cell_type": "code",
   "execution_count": 2807,
   "id": "f22109bd",
   "metadata": {},
   "outputs": [
    {
     "data": {
      "text/plain": [
       "<AxesSubplot: >"
      ]
     },
     "execution_count": 2807,
     "metadata": {},
     "output_type": "execute_result"
    },
    {
     "data": {
      "image/png": "[encoded data removed]",
      "text/plain": [
       "<Figure size 500x300 with 2 Axes>"
      ]
     },
     "metadata": {},
     "output_type": "display_data"
    }
   ],
   "source": [
    "# Correlation heatmap\n",
    "cmap = sns.diverging_palette(5, 250, as_cmap=True)\n",
    "plt.figure(figsize=(5,3))\n",
    "mask = np.zeros_like(data.corr(), dtype=np.bool)\n",
    "mask[np.triu_indices_from(mask)] = True\n",
    "sns.heatmap(data=data.corr(), cmap=cmap, annot=True,linewidths=0.5, linecolor='white',mask=mask)"
   ]
  },
  {
   "cell_type": "code",
   "execution_count": 2808,
   "id": "f015bf8e",
   "metadata": {},
   "outputs": [],
   "source": [
    "# Separate out the features and targets\n",
    "features = data.drop(columns=['Width', 'Depth'])\n",
    "targets = data.drop(columns=['IF', 'FP', 'IW', 'VW'])"
   ]
  },
  {
   "cell_type": "code",
   "execution_count": 2809,
   "id": "9d44b28a",
   "metadata": {},
   "outputs": [
    {
     "name": "stdout",
     "output_type": "stream",
     "text": [
      "(45, 4) (20, 4)\n",
      "(45, 2) (20, 2)\n"
     ]
    }
   ],
   "source": [
    "# Split into 70% training and 30% testing set\n",
    "X_train, X_test, y_train, y_test = train_test_split(features, targets, test_size = 0.30, random_state = 42)\n",
    "print(X_train.shape, X_test.shape)\n",
    "print(y_train.shape, y_test.shape)"
   ]
  },
  {
   "cell_type": "code",
   "execution_count": 2810,
   "id": "a054589b",
   "metadata": {},
   "outputs": [
    {
     "name": "stderr",
     "output_type": "stream",
     "text": [
      "2022-11-26 12:24:37.208158: I tensorflow/core/grappler/optimizers/custom_graph_optimizer_registry.cc:113] Plugin optimizer for device_type GPU is enabled.\n",
      "2022-11-26 12:24:37.237961: I tensorflow/core/grappler/optimizers/custom_graph_optimizer_registry.cc:113] Plugin optimizer for device_type GPU is enabled.\n"
     ]
    }
   ],
   "source": [
    "# Data normalization\n",
    "normalizer = Normalization(axis=-1)\n",
    "normalizer.adapt(features)"
   ]
  },
  {
   "cell_type": "code",
   "execution_count": 2811,
   "id": "b8ca3920",
   "metadata": {},
   "outputs": [
    {
     "name": "stdout",
     "output_type": "stream",
     "text": [
      "Model: \"sequential_106\"\n",
      "_________________________________________________________________\n",
      " Layer (type)                Output Shape              Param #   \n",
      "=================================================================\n",
      " normalization_109 (Normaliz  (None, 4)                9         \n",
      " ation)                                                          \n",
      "                                                                 \n",
      " dense_497 (Dense)           (None, 128)               640       \n",
      "                                                                 \n",
      " dense_498 (Dense)           (None, 128)               16512     \n",
      "                                                                 \n",
      " dense_499 (Dense)           (None, 128)               16512     \n",
      "                                                                 \n",
      " dense_500 (Dense)           (None, 2)                 258       \n",
      "                                                                 \n",
      "=================================================================\n",
      "Total params: 33,931\n",
      "Trainable params: 33,922\n",
      "Non-trainable params: 9\n",
      "_________________________________________________________________\n"
     ]
    }
   ],
   "source": [
    "model = Sequential([\n",
    "    normalizer,\n",
    "    Dense(128, activation='relu', input_dim=X_train.shape[1]),\n",
    "    Dense(128, activation='relu'),\n",
    "    Dense(128, activation='relu'),\n",
    "    Dense(2)\n",
    "])\n",
    "\n",
    "model.compile(optimizer='adam', loss='mse', metrics=['mae'])\n",
    "model.summary()"
   ]
  },
  {
   "cell_type": "code",
   "execution_count": 2812,
   "id": "591246f6",
   "metadata": {},
   "outputs": [
    {
     "name": "stdout",
     "output_type": "stream",
     "text": [
      "Epoch 1/195\n"
     ]
    },
    {
     "name": "stderr",
     "output_type": "stream",
     "text": [
      "2022-11-26 12:24:37.763391: I tensorflow/core/grappler/optimizers/custom_graph_optimizer_registry.cc:113] Plugin optimizer for device_type GPU is enabled.\n",
      "2022-11-26 12:24:38.486057: I tensorflow/core/grappler/optimizers/custom_graph_optimizer_registry.cc:113] Plugin optimizer for device_type GPU is enabled.\n"
     ]
    },
    {
     "name": "stdout",
     "output_type": "stream",
     "text": [
      "2/2 - 1s - loss: 2.6666 - mae: 1.5613 - val_loss: 2.6804 - val_mae: 1.5744 - 1s/epoch - 594ms/step\n",
      "Epoch 2/195\n",
      "2/2 - 0s - loss: 2.1056 - mae: 1.3872 - val_loss: 2.1777 - val_mae: 1.4261 - 134ms/epoch - 67ms/step\n",
      "Epoch 3/195\n",
      "2/2 - 0s - loss: 1.6167 - mae: 1.2103 - val_loss: 1.6995 - val_mae: 1.2654 - 97ms/epoch - 48ms/step\n",
      "Epoch 4/195\n",
      "2/2 - 0s - loss: 1.1685 - mae: 1.0018 - val_loss: 1.2372 - val_mae: 1.0847 - 94ms/epoch - 47ms/step\n",
      "Epoch 5/195\n",
      "2/2 - 0s - loss: 0.8087 - mae: 0.8149 - val_loss: 0.8121 - val_mae: 0.8802 - 158ms/epoch - 79ms/step\n",
      "Epoch 6/195\n",
      "2/2 - 0s - loss: 0.5665 - mae: 0.6882 - val_loss: 0.4791 - val_mae: 0.6680 - 85ms/epoch - 43ms/step\n",
      "Epoch 7/195\n",
      "2/2 - 0s - loss: 0.4096 - mae: 0.5703 - val_loss: 0.2583 - val_mae: 0.4646 - 112ms/epoch - 56ms/step\n",
      "Epoch 8/195\n",
      "2/2 - 0s - loss: 0.3492 - mae: 0.4970 - val_loss: 0.1358 - val_mae: 0.3120 - 81ms/epoch - 41ms/step\n",
      "Epoch 9/195\n",
      "2/2 - 0s - loss: 0.3388 - mae: 0.4470 - val_loss: 0.0887 - val_mae: 0.2163 - 111ms/epoch - 56ms/step\n",
      "Epoch 10/195\n",
      "2/2 - 0s - loss: 0.3252 - mae: 0.4283 - val_loss: 0.0745 - val_mae: 0.1801 - 96ms/epoch - 48ms/step\n",
      "Epoch 11/195\n",
      "2/2 - 0s - loss: 0.2663 - mae: 0.3896 - val_loss: 0.0728 - val_mae: 0.1773 - 71ms/epoch - 35ms/step\n",
      "Epoch 12/195\n",
      "2/2 - 0s - loss: 0.2083 - mae: 0.3420 - val_loss: 0.0792 - val_mae: 0.1816 - 101ms/epoch - 50ms/step\n",
      "Epoch 13/195\n",
      "2/2 - 0s - loss: 0.1588 - mae: 0.3034 - val_loss: 0.0865 - val_mae: 0.2043 - 79ms/epoch - 39ms/step\n",
      "Epoch 14/195\n",
      "2/2 - 0s - loss: 0.1371 - mae: 0.2828 - val_loss: 0.0917 - val_mae: 0.2181 - 94ms/epoch - 47ms/step\n",
      "Epoch 15/195\n",
      "2/2 - 0s - loss: 0.1282 - mae: 0.2688 - val_loss: 0.0897 - val_mae: 0.2192 - 79ms/epoch - 40ms/step\n",
      "Epoch 16/195\n",
      "2/2 - 0s - loss: 0.1230 - mae: 0.2644 - val_loss: 0.0790 - val_mae: 0.2021 - 102ms/epoch - 51ms/step\n",
      "Epoch 17/195\n",
      "2/2 - 0s - loss: 0.1156 - mae: 0.2626 - val_loss: 0.0633 - val_mae: 0.1669 - 81ms/epoch - 40ms/step\n",
      "Epoch 18/195\n",
      "2/2 - 0s - loss: 0.1058 - mae: 0.2540 - val_loss: 0.0497 - val_mae: 0.1412 - 68ms/epoch - 34ms/step\n",
      "Epoch 19/195\n",
      "2/2 - 0s - loss: 0.0978 - mae: 0.2445 - val_loss: 0.0443 - val_mae: 0.1617 - 54ms/epoch - 27ms/step\n",
      "Epoch 20/195\n",
      "2/2 - 0s - loss: 0.0947 - mae: 0.2401 - val_loss: 0.0459 - val_mae: 0.1799 - 51ms/epoch - 25ms/step\n",
      "Epoch 21/195\n",
      "2/2 - 0s - loss: 0.0982 - mae: 0.2426 - val_loss: 0.0493 - val_mae: 0.1905 - 64ms/epoch - 32ms/step\n",
      "Epoch 22/195\n",
      "2/2 - 0s - loss: 0.0994 - mae: 0.2464 - val_loss: 0.0500 - val_mae: 0.1925 - 78ms/epoch - 39ms/step\n",
      "Epoch 23/195\n",
      "2/2 - 0s - loss: 0.0958 - mae: 0.2431 - val_loss: 0.0478 - val_mae: 0.1854 - 70ms/epoch - 35ms/step\n",
      "Epoch 24/195\n",
      "2/2 - 0s - loss: 0.0889 - mae: 0.2316 - val_loss: 0.0452 - val_mae: 0.1710 - 55ms/epoch - 28ms/step\n",
      "Epoch 25/195\n",
      "2/2 - 0s - loss: 0.0810 - mae: 0.2189 - val_loss: 0.0456 - val_mae: 0.1637 - 52ms/epoch - 26ms/step\n",
      "Epoch 26/195\n",
      "2/2 - 0s - loss: 0.0776 - mae: 0.2157 - val_loss: 0.0455 - val_mae: 0.1590 - 52ms/epoch - 26ms/step\n",
      "Epoch 27/195\n",
      "2/2 - 0s - loss: 0.0744 - mae: 0.2147 - val_loss: 0.0427 - val_mae: 0.1546 - 47ms/epoch - 24ms/step\n",
      "Epoch 28/195\n",
      "2/2 - 0s - loss: 0.0710 - mae: 0.2106 - val_loss: 0.0391 - val_mae: 0.1481 - 48ms/epoch - 24ms/step\n",
      "Epoch 29/195\n",
      "2/2 - 0s - loss: 0.0675 - mae: 0.2044 - val_loss: 0.0334 - val_mae: 0.1401 - 47ms/epoch - 24ms/step\n",
      "Epoch 30/195\n",
      "2/2 - 0s - loss: 0.0621 - mae: 0.1950 - val_loss: 0.0267 - val_mae: 0.1287 - 49ms/epoch - 24ms/step\n",
      "Epoch 31/195\n",
      "2/2 - 0s - loss: 0.0594 - mae: 0.1906 - val_loss: 0.0224 - val_mae: 0.1229 - 48ms/epoch - 24ms/step\n",
      "Epoch 32/195\n",
      "2/2 - 0s - loss: 0.0587 - mae: 0.1875 - val_loss: 0.0196 - val_mae: 0.1179 - 48ms/epoch - 24ms/step\n",
      "Epoch 33/195\n",
      "2/2 - 0s - loss: 0.0602 - mae: 0.1878 - val_loss: 0.0173 - val_mae: 0.1098 - 48ms/epoch - 24ms/step\n",
      "Epoch 34/195\n",
      "2/2 - 0s - loss: 0.0587 - mae: 0.1837 - val_loss: 0.0139 - val_mae: 0.0965 - 49ms/epoch - 24ms/step\n",
      "Epoch 35/195\n",
      "2/2 - 0s - loss: 0.0545 - mae: 0.1773 - val_loss: 0.0122 - val_mae: 0.0833 - 49ms/epoch - 24ms/step\n",
      "Epoch 36/195\n",
      "2/2 - 0s - loss: 0.0493 - mae: 0.1709 - val_loss: 0.0125 - val_mae: 0.0842 - 48ms/epoch - 24ms/step\n",
      "Epoch 37/195\n",
      "2/2 - 0s - loss: 0.0477 - mae: 0.1686 - val_loss: 0.0132 - val_mae: 0.0891 - 48ms/epoch - 24ms/step\n",
      "Epoch 38/195\n",
      "2/2 - 0s - loss: 0.0454 - mae: 0.1645 - val_loss: 0.0127 - val_mae: 0.0855 - 48ms/epoch - 24ms/step\n",
      "Epoch 39/195\n",
      "2/2 - 0s - loss: 0.0435 - mae: 0.1601 - val_loss: 0.0112 - val_mae: 0.0770 - 47ms/epoch - 24ms/step\n",
      "Epoch 40/195\n",
      "2/2 - 0s - loss: 0.0419 - mae: 0.1562 - val_loss: 0.0105 - val_mae: 0.0783 - 49ms/epoch - 24ms/step\n",
      "Epoch 41/195\n",
      "2/2 - 0s - loss: 0.0405 - mae: 0.1595 - val_loss: 0.0099 - val_mae: 0.0851 - 47ms/epoch - 24ms/step\n",
      "Epoch 42/195\n",
      "2/2 - 0s - loss: 0.0388 - mae: 0.1612 - val_loss: 0.0107 - val_mae: 0.0942 - 48ms/epoch - 24ms/step\n",
      "Epoch 43/195\n",
      "2/2 - 0s - loss: 0.0372 - mae: 0.1568 - val_loss: 0.0121 - val_mae: 0.0989 - 48ms/epoch - 24ms/step\n",
      "Epoch 44/195\n",
      "2/2 - 0s - loss: 0.0355 - mae: 0.1472 - val_loss: 0.0126 - val_mae: 0.0974 - 49ms/epoch - 24ms/step\n",
      "Epoch 45/195\n",
      "2/2 - 0s - loss: 0.0351 - mae: 0.1474 - val_loss: 0.0122 - val_mae: 0.0922 - 49ms/epoch - 24ms/step\n",
      "Epoch 46/195\n",
      "2/2 - 0s - loss: 0.0351 - mae: 0.1469 - val_loss: 0.0106 - val_mae: 0.0841 - 49ms/epoch - 25ms/step\n",
      "Epoch 47/195\n",
      "2/2 - 0s - loss: 0.0328 - mae: 0.1451 - val_loss: 0.0084 - val_mae: 0.0778 - 46ms/epoch - 23ms/step\n",
      "Epoch 48/195\n",
      "2/2 - 0s - loss: 0.0302 - mae: 0.1419 - val_loss: 0.0081 - val_mae: 0.0755 - 52ms/epoch - 26ms/step\n",
      "Epoch 49/195\n",
      "2/2 - 0s - loss: 0.0280 - mae: 0.1367 - val_loss: 0.0084 - val_mae: 0.0748 - 51ms/epoch - 25ms/step\n",
      "Epoch 50/195\n",
      "2/2 - 0s - loss: 0.0261 - mae: 0.1316 - val_loss: 0.0098 - val_mae: 0.0821 - 54ms/epoch - 27ms/step\n",
      "Epoch 51/195\n",
      "2/2 - 0s - loss: 0.0244 - mae: 0.1246 - val_loss: 0.0121 - val_mae: 0.0955 - 52ms/epoch - 26ms/step\n",
      "Epoch 52/195\n",
      "2/2 - 0s - loss: 0.0236 - mae: 0.1255 - val_loss: 0.0133 - val_mae: 0.1023 - 49ms/epoch - 24ms/step\n",
      "Epoch 53/195\n",
      "2/2 - 0s - loss: 0.0232 - mae: 0.1270 - val_loss: 0.0128 - val_mae: 0.1018 - 48ms/epoch - 24ms/step\n",
      "Epoch 54/195\n",
      "2/2 - 0s - loss: 0.0219 - mae: 0.1221 - val_loss: 0.0105 - val_mae: 0.0907 - 47ms/epoch - 23ms/step\n",
      "Epoch 55/195\n",
      "2/2 - 0s - loss: 0.0198 - mae: 0.1106 - val_loss: 0.0089 - val_mae: 0.0828 - 47ms/epoch - 24ms/step\n",
      "Epoch 56/195\n",
      "2/2 - 0s - loss: 0.0192 - mae: 0.1072 - val_loss: 0.0087 - val_mae: 0.0835 - 49ms/epoch - 25ms/step\n",
      "Epoch 57/195\n",
      "2/2 - 0s - loss: 0.0192 - mae: 0.1090 - val_loss: 0.0094 - val_mae: 0.0868 - 48ms/epoch - 24ms/step\n",
      "Epoch 58/195\n",
      "2/2 - 0s - loss: 0.0182 - mae: 0.1056 - val_loss: 0.0105 - val_mae: 0.0903 - 47ms/epoch - 23ms/step\n",
      "Epoch 59/195\n",
      "2/2 - 0s - loss: 0.0171 - mae: 0.1000 - val_loss: 0.0121 - val_mae: 0.0961 - 48ms/epoch - 24ms/step\n",
      "Epoch 60/195\n",
      "2/2 - 0s - loss: 0.0164 - mae: 0.0986 - val_loss: 0.0140 - val_mae: 0.1018 - 50ms/epoch - 25ms/step\n",
      "Epoch 61/195\n",
      "2/2 - 0s - loss: 0.0164 - mae: 0.1000 - val_loss: 0.0145 - val_mae: 0.1049 - 47ms/epoch - 23ms/step\n",
      "Epoch 62/195\n",
      "2/2 - 0s - loss: 0.0159 - mae: 0.0997 - val_loss: 0.0143 - val_mae: 0.1055 - 46ms/epoch - 23ms/step\n",
      "Epoch 63/195\n",
      "2/2 - 0s - loss: 0.0153 - mae: 0.0977 - val_loss: 0.0137 - val_mae: 0.1025 - 49ms/epoch - 25ms/step\n",
      "Epoch 64/195\n",
      "2/2 - 0s - loss: 0.0149 - mae: 0.0948 - val_loss: 0.0128 - val_mae: 0.0992 - 49ms/epoch - 24ms/step\n",
      "Epoch 65/195\n",
      "2/2 - 0s - loss: 0.0149 - mae: 0.0944 - val_loss: 0.0123 - val_mae: 0.0972 - 49ms/epoch - 24ms/step\n",
      "Epoch 66/195\n",
      "2/2 - 0s - loss: 0.0140 - mae: 0.0907 - val_loss: 0.0129 - val_mae: 0.0986 - 48ms/epoch - 24ms/step\n",
      "Epoch 67/195\n",
      "2/2 - 0s - loss: 0.0134 - mae: 0.0871 - val_loss: 0.0143 - val_mae: 0.1021 - 74ms/epoch - 37ms/step\n",
      "Epoch 68/195\n",
      "2/2 - 0s - loss: 0.0130 - mae: 0.0863 - val_loss: 0.0154 - val_mae: 0.1048 - 50ms/epoch - 25ms/step\n",
      "Epoch 69/195\n",
      "2/2 - 0s - loss: 0.0130 - mae: 0.0864 - val_loss: 0.0159 - val_mae: 0.1067 - 52ms/epoch - 26ms/step\n",
      "Epoch 70/195\n",
      "2/2 - 0s - loss: 0.0128 - mae: 0.0851 - val_loss: 0.0152 - val_mae: 0.1059 - 48ms/epoch - 24ms/step\n",
      "Epoch 71/195\n",
      "2/2 - 0s - loss: 0.0121 - mae: 0.0825 - val_loss: 0.0142 - val_mae: 0.1040 - 50ms/epoch - 25ms/step\n",
      "Epoch 72/195\n",
      "2/2 - 0s - loss: 0.0115 - mae: 0.0803 - val_loss: 0.0126 - val_mae: 0.1006 - 52ms/epoch - 26ms/step\n",
      "Epoch 73/195\n",
      "2/2 - 0s - loss: 0.0111 - mae: 0.0795 - val_loss: 0.0116 - val_mae: 0.0967 - 56ms/epoch - 28ms/step\n"
     ]
    },
    {
     "name": "stdout",
     "output_type": "stream",
     "text": [
      "Epoch 74/195\n",
      "2/2 - 0s - loss: 0.0117 - mae: 0.0831 - val_loss: 0.0115 - val_mae: 0.0939 - 52ms/epoch - 26ms/step\n",
      "Epoch 75/195\n",
      "2/2 - 0s - loss: 0.0122 - mae: 0.0850 - val_loss: 0.0121 - val_mae: 0.0962 - 48ms/epoch - 24ms/step\n",
      "Epoch 76/195\n",
      "2/2 - 0s - loss: 0.0115 - mae: 0.0839 - val_loss: 0.0129 - val_mae: 0.0998 - 48ms/epoch - 24ms/step\n",
      "Epoch 77/195\n",
      "2/2 - 0s - loss: 0.0104 - mae: 0.0790 - val_loss: 0.0134 - val_mae: 0.1008 - 48ms/epoch - 24ms/step\n",
      "Epoch 78/195\n",
      "2/2 - 0s - loss: 0.0099 - mae: 0.0758 - val_loss: 0.0149 - val_mae: 0.1042 - 51ms/epoch - 25ms/step\n",
      "Epoch 79/195\n",
      "2/2 - 0s - loss: 0.0102 - mae: 0.0749 - val_loss: 0.0158 - val_mae: 0.1065 - 49ms/epoch - 24ms/step\n",
      "Epoch 80/195\n",
      "2/2 - 0s - loss: 0.0101 - mae: 0.0736 - val_loss: 0.0150 - val_mae: 0.1046 - 49ms/epoch - 24ms/step\n",
      "Epoch 81/195\n",
      "2/2 - 0s - loss: 0.0096 - mae: 0.0721 - val_loss: 0.0137 - val_mae: 0.1015 - 48ms/epoch - 24ms/step\n",
      "Epoch 82/195\n",
      "2/2 - 0s - loss: 0.0092 - mae: 0.0704 - val_loss: 0.0121 - val_mae: 0.0969 - 48ms/epoch - 24ms/step\n",
      "Epoch 83/195\n",
      "2/2 - 0s - loss: 0.0093 - mae: 0.0724 - val_loss: 0.0112 - val_mae: 0.0925 - 48ms/epoch - 24ms/step\n",
      "Epoch 84/195\n",
      "2/2 - 0s - loss: 0.0104 - mae: 0.0778 - val_loss: 0.0109 - val_mae: 0.0914 - 51ms/epoch - 25ms/step\n",
      "Epoch 85/195\n",
      "2/2 - 0s - loss: 0.0100 - mae: 0.0776 - val_loss: 0.0109 - val_mae: 0.0916 - 49ms/epoch - 24ms/step\n",
      "Epoch 86/195\n",
      "2/2 - 0s - loss: 0.0095 - mae: 0.0745 - val_loss: 0.0113 - val_mae: 0.0923 - 48ms/epoch - 24ms/step\n",
      "Epoch 87/195\n",
      "2/2 - 0s - loss: 0.0084 - mae: 0.0708 - val_loss: 0.0105 - val_mae: 0.0890 - 48ms/epoch - 24ms/step\n",
      "Epoch 88/195\n",
      "2/2 - 0s - loss: 0.0080 - mae: 0.0674 - val_loss: 0.0098 - val_mae: 0.0853 - 49ms/epoch - 24ms/step\n",
      "Epoch 89/195\n",
      "2/2 - 0s - loss: 0.0080 - mae: 0.0676 - val_loss: 0.0096 - val_mae: 0.0827 - 48ms/epoch - 24ms/step\n",
      "Epoch 90/195\n",
      "2/2 - 0s - loss: 0.0081 - mae: 0.0681 - val_loss: 0.0091 - val_mae: 0.0793 - 52ms/epoch - 26ms/step\n",
      "Epoch 91/195\n",
      "2/2 - 0s - loss: 0.0079 - mae: 0.0671 - val_loss: 0.0082 - val_mae: 0.0750 - 54ms/epoch - 27ms/step\n",
      "Epoch 92/195\n",
      "2/2 - 0s - loss: 0.0076 - mae: 0.0648 - val_loss: 0.0076 - val_mae: 0.0713 - 53ms/epoch - 26ms/step\n",
      "Epoch 93/195\n",
      "2/2 - 0s - loss: 0.0074 - mae: 0.0642 - val_loss: 0.0078 - val_mae: 0.0714 - 53ms/epoch - 26ms/step\n",
      "Epoch 94/195\n",
      "2/2 - 0s - loss: 0.0074 - mae: 0.0649 - val_loss: 0.0078 - val_mae: 0.0711 - 51ms/epoch - 25ms/step\n",
      "Epoch 95/195\n",
      "2/2 - 0s - loss: 0.0072 - mae: 0.0644 - val_loss: 0.0070 - val_mae: 0.0682 - 48ms/epoch - 24ms/step\n",
      "Epoch 96/195\n",
      "2/2 - 0s - loss: 0.0071 - mae: 0.0625 - val_loss: 0.0062 - val_mae: 0.0676 - 48ms/epoch - 24ms/step\n",
      "Epoch 97/195\n",
      "2/2 - 0s - loss: 0.0072 - mae: 0.0622 - val_loss: 0.0057 - val_mae: 0.0661 - 48ms/epoch - 24ms/step\n",
      "Epoch 98/195\n",
      "2/2 - 0s - loss: 0.0070 - mae: 0.0617 - val_loss: 0.0051 - val_mae: 0.0619 - 47ms/epoch - 24ms/step\n",
      "Epoch 99/195\n",
      "2/2 - 0s - loss: 0.0067 - mae: 0.0614 - val_loss: 0.0049 - val_mae: 0.0601 - 48ms/epoch - 24ms/step\n",
      "Epoch 100/195\n",
      "2/2 - 0s - loss: 0.0067 - mae: 0.0622 - val_loss: 0.0053 - val_mae: 0.0619 - 47ms/epoch - 23ms/step\n",
      "Epoch 101/195\n",
      "2/2 - 0s - loss: 0.0065 - mae: 0.0625 - val_loss: 0.0056 - val_mae: 0.0632 - 49ms/epoch - 25ms/step\n",
      "Epoch 102/195\n",
      "2/2 - 0s - loss: 0.0063 - mae: 0.0611 - val_loss: 0.0059 - val_mae: 0.0638 - 65ms/epoch - 32ms/step\n",
      "Epoch 103/195\n",
      "2/2 - 0s - loss: 0.0061 - mae: 0.0599 - val_loss: 0.0056 - val_mae: 0.0613 - 53ms/epoch - 27ms/step\n",
      "Epoch 104/195\n",
      "2/2 - 0s - loss: 0.0060 - mae: 0.0585 - val_loss: 0.0052 - val_mae: 0.0618 - 52ms/epoch - 26ms/step\n",
      "Epoch 105/195\n",
      "2/2 - 0s - loss: 0.0063 - mae: 0.0594 - val_loss: 0.0050 - val_mae: 0.0622 - 48ms/epoch - 24ms/step\n",
      "Epoch 106/195\n",
      "2/2 - 0s - loss: 0.0062 - mae: 0.0588 - val_loss: 0.0053 - val_mae: 0.0637 - 49ms/epoch - 24ms/step\n",
      "Epoch 107/195\n",
      "2/2 - 0s - loss: 0.0058 - mae: 0.0582 - val_loss: 0.0063 - val_mae: 0.0657 - 57ms/epoch - 28ms/step\n",
      "Epoch 108/195\n",
      "2/2 - 0s - loss: 0.0058 - mae: 0.0598 - val_loss: 0.0066 - val_mae: 0.0653 - 51ms/epoch - 26ms/step\n",
      "Epoch 109/195\n",
      "2/2 - 0s - loss: 0.0058 - mae: 0.0591 - val_loss: 0.0057 - val_mae: 0.0606 - 51ms/epoch - 26ms/step\n",
      "Epoch 110/195\n",
      "2/2 - 0s - loss: 0.0055 - mae: 0.0562 - val_loss: 0.0050 - val_mae: 0.0577 - 48ms/epoch - 24ms/step\n",
      "Epoch 111/195\n",
      "2/2 - 0s - loss: 0.0054 - mae: 0.0550 - val_loss: 0.0049 - val_mae: 0.0582 - 48ms/epoch - 24ms/step\n",
      "Epoch 112/195\n",
      "2/2 - 0s - loss: 0.0055 - mae: 0.0559 - val_loss: 0.0049 - val_mae: 0.0585 - 49ms/epoch - 25ms/step\n",
      "Epoch 113/195\n",
      "2/2 - 0s - loss: 0.0053 - mae: 0.0541 - val_loss: 0.0051 - val_mae: 0.0590 - 49ms/epoch - 25ms/step\n",
      "Epoch 114/195\n",
      "2/2 - 0s - loss: 0.0050 - mae: 0.0522 - val_loss: 0.0055 - val_mae: 0.0595 - 51ms/epoch - 25ms/step\n",
      "Epoch 115/195\n",
      "2/2 - 0s - loss: 0.0052 - mae: 0.0545 - val_loss: 0.0052 - val_mae: 0.0576 - 49ms/epoch - 24ms/step\n",
      "Epoch 116/195\n",
      "2/2 - 0s - loss: 0.0049 - mae: 0.0532 - val_loss: 0.0041 - val_mae: 0.0541 - 50ms/epoch - 25ms/step\n",
      "Epoch 117/195\n",
      "2/2 - 0s - loss: 0.0049 - mae: 0.0525 - val_loss: 0.0037 - val_mae: 0.0511 - 50ms/epoch - 25ms/step\n",
      "Epoch 118/195\n",
      "2/2 - 0s - loss: 0.0049 - mae: 0.0518 - val_loss: 0.0037 - val_mae: 0.0501 - 50ms/epoch - 25ms/step\n",
      "Epoch 119/195\n",
      "2/2 - 0s - loss: 0.0046 - mae: 0.0507 - val_loss: 0.0051 - val_mae: 0.0561 - 54ms/epoch - 27ms/step\n",
      "Epoch 120/195\n",
      "2/2 - 0s - loss: 0.0045 - mae: 0.0499 - val_loss: 0.0074 - val_mae: 0.0658 - 53ms/epoch - 27ms/step\n",
      "Epoch 121/195\n",
      "2/2 - 0s - loss: 0.0048 - mae: 0.0510 - val_loss: 0.0084 - val_mae: 0.0681 - 54ms/epoch - 27ms/step\n",
      "Epoch 122/195\n",
      "2/2 - 0s - loss: 0.0048 - mae: 0.0510 - val_loss: 0.0075 - val_mae: 0.0659 - 55ms/epoch - 27ms/step\n",
      "Epoch 123/195\n",
      "2/2 - 0s - loss: 0.0049 - mae: 0.0516 - val_loss: 0.0058 - val_mae: 0.0610 - 51ms/epoch - 25ms/step\n",
      "Epoch 124/195\n",
      "2/2 - 0s - loss: 0.0051 - mae: 0.0534 - val_loss: 0.0039 - val_mae: 0.0513 - 53ms/epoch - 26ms/step\n",
      "Epoch 125/195\n",
      "2/2 - 0s - loss: 0.0048 - mae: 0.0534 - val_loss: 0.0032 - val_mae: 0.0451 - 58ms/epoch - 29ms/step\n",
      "Epoch 126/195\n",
      "2/2 - 0s - loss: 0.0043 - mae: 0.0514 - val_loss: 0.0042 - val_mae: 0.0552 - 52ms/epoch - 26ms/step\n",
      "Epoch 127/195\n",
      "2/2 - 0s - loss: 0.0055 - mae: 0.0563 - val_loss: 0.0048 - val_mae: 0.0590 - 53ms/epoch - 26ms/step\n",
      "Epoch 128/195\n",
      "2/2 - 0s - loss: 0.0050 - mae: 0.0532 - val_loss: 0.0035 - val_mae: 0.0456 - 50ms/epoch - 25ms/step\n",
      "Epoch 129/195\n",
      "2/2 - 0s - loss: 0.0045 - mae: 0.0488 - val_loss: 0.0036 - val_mae: 0.0472 - 47ms/epoch - 24ms/step\n",
      "Epoch 130/195\n",
      "2/2 - 0s - loss: 0.0050 - mae: 0.0526 - val_loss: 0.0040 - val_mae: 0.0532 - 49ms/epoch - 24ms/step\n",
      "Epoch 131/195\n",
      "2/2 - 0s - loss: 0.0050 - mae: 0.0537 - val_loss: 0.0054 - val_mae: 0.0552 - 47ms/epoch - 24ms/step\n",
      "Epoch 132/195\n",
      "2/2 - 0s - loss: 0.0049 - mae: 0.0557 - val_loss: 0.0063 - val_mae: 0.0617 - 49ms/epoch - 25ms/step\n",
      "Epoch 133/195\n",
      "2/2 - 0s - loss: 0.0045 - mae: 0.0533 - val_loss: 0.0043 - val_mae: 0.0509 - 48ms/epoch - 24ms/step\n",
      "Epoch 134/195\n",
      "2/2 - 0s - loss: 0.0040 - mae: 0.0485 - val_loss: 0.0031 - val_mae: 0.0434 - 48ms/epoch - 24ms/step\n",
      "Epoch 135/195\n",
      "2/2 - 0s - loss: 0.0041 - mae: 0.0494 - val_loss: 0.0039 - val_mae: 0.0477 - 47ms/epoch - 23ms/step\n",
      "Epoch 136/195\n",
      "2/2 - 0s - loss: 0.0040 - mae: 0.0485 - val_loss: 0.0056 - val_mae: 0.0577 - 48ms/epoch - 24ms/step\n",
      "Epoch 137/195\n",
      "2/2 - 0s - loss: 0.0038 - mae: 0.0454 - val_loss: 0.0073 - val_mae: 0.0662 - 54ms/epoch - 27ms/step\n",
      "Epoch 138/195\n",
      "2/2 - 0s - loss: 0.0041 - mae: 0.0480 - val_loss: 0.0079 - val_mae: 0.0674 - 52ms/epoch - 26ms/step\n",
      "Epoch 139/195\n",
      "2/2 - 0s - loss: 0.0042 - mae: 0.0481 - val_loss: 0.0066 - val_mae: 0.0587 - 52ms/epoch - 26ms/step\n",
      "Epoch 140/195\n",
      "2/2 - 0s - loss: 0.0039 - mae: 0.0461 - val_loss: 0.0054 - val_mae: 0.0545 - 52ms/epoch - 26ms/step\n",
      "Epoch 141/195\n",
      "2/2 - 0s - loss: 0.0039 - mae: 0.0460 - val_loss: 0.0048 - val_mae: 0.0494 - 52ms/epoch - 26ms/step\n",
      "Epoch 142/195\n",
      "2/2 - 0s - loss: 0.0036 - mae: 0.0444 - val_loss: 0.0049 - val_mae: 0.0566 - 53ms/epoch - 27ms/step\n",
      "Epoch 143/195\n",
      "2/2 - 0s - loss: 0.0038 - mae: 0.0476 - val_loss: 0.0051 - val_mae: 0.0611 - 51ms/epoch - 26ms/step\n",
      "Epoch 144/195\n",
      "2/2 - 0s - loss: 0.0043 - mae: 0.0513 - val_loss: 0.0045 - val_mae: 0.0571 - 50ms/epoch - 25ms/step\n",
      "Epoch 145/195\n",
      "2/2 - 0s - loss: 0.0042 - mae: 0.0498 - val_loss: 0.0029 - val_mae: 0.0424 - 52ms/epoch - 26ms/step\n",
      "Epoch 146/195\n"
     ]
    },
    {
     "name": "stdout",
     "output_type": "stream",
     "text": [
      "2/2 - 0s - loss: 0.0037 - mae: 0.0434 - val_loss: 0.0022 - val_mae: 0.0347 - 52ms/epoch - 26ms/step\n",
      "Epoch 147/195\n",
      "2/2 - 0s - loss: 0.0041 - mae: 0.0446 - val_loss: 0.0021 - val_mae: 0.0356 - 54ms/epoch - 27ms/step\n",
      "Epoch 148/195\n",
      "2/2 - 0s - loss: 0.0039 - mae: 0.0445 - val_loss: 0.0030 - val_mae: 0.0454 - 56ms/epoch - 28ms/step\n",
      "Epoch 149/195\n",
      "2/2 - 0s - loss: 0.0035 - mae: 0.0457 - val_loss: 0.0040 - val_mae: 0.0515 - 56ms/epoch - 28ms/step\n",
      "Epoch 150/195\n",
      "2/2 - 0s - loss: 0.0037 - mae: 0.0478 - val_loss: 0.0044 - val_mae: 0.0537 - 52ms/epoch - 26ms/step\n",
      "Epoch 151/195\n",
      "2/2 - 0s - loss: 0.0038 - mae: 0.0476 - val_loss: 0.0038 - val_mae: 0.0495 - 49ms/epoch - 25ms/step\n",
      "Epoch 152/195\n",
      "2/2 - 0s - loss: 0.0035 - mae: 0.0439 - val_loss: 0.0038 - val_mae: 0.0479 - 49ms/epoch - 24ms/step\n",
      "Epoch 153/195\n",
      "2/2 - 0s - loss: 0.0034 - mae: 0.0426 - val_loss: 0.0047 - val_mae: 0.0512 - 50ms/epoch - 25ms/step\n",
      "Epoch 154/195\n",
      "2/2 - 0s - loss: 0.0034 - mae: 0.0416 - val_loss: 0.0055 - val_mae: 0.0555 - 50ms/epoch - 25ms/step\n",
      "Epoch 155/195\n",
      "2/2 - 0s - loss: 0.0032 - mae: 0.0422 - val_loss: 0.0059 - val_mae: 0.0619 - 49ms/epoch - 25ms/step\n",
      "Epoch 156/195\n",
      "2/2 - 0s - loss: 0.0036 - mae: 0.0471 - val_loss: 0.0048 - val_mae: 0.0577 - 49ms/epoch - 24ms/step\n",
      "Epoch 157/195\n",
      "2/2 - 0s - loss: 0.0037 - mae: 0.0477 - val_loss: 0.0031 - val_mae: 0.0443 - 48ms/epoch - 24ms/step\n",
      "Epoch 158/195\n",
      "2/2 - 0s - loss: 0.0035 - mae: 0.0448 - val_loss: 0.0030 - val_mae: 0.0408 - 49ms/epoch - 24ms/step\n",
      "Epoch 159/195\n",
      "2/2 - 0s - loss: 0.0035 - mae: 0.0426 - val_loss: 0.0034 - val_mae: 0.0454 - 47ms/epoch - 24ms/step\n",
      "Epoch 160/195\n",
      "2/2 - 0s - loss: 0.0033 - mae: 0.0424 - val_loss: 0.0039 - val_mae: 0.0508 - 50ms/epoch - 25ms/step\n",
      "Epoch 161/195\n",
      "2/2 - 0s - loss: 0.0033 - mae: 0.0425 - val_loss: 0.0042 - val_mae: 0.0529 - 50ms/epoch - 25ms/step\n",
      "Epoch 162/195\n",
      "2/2 - 0s - loss: 0.0032 - mae: 0.0421 - val_loss: 0.0037 - val_mae: 0.0503 - 49ms/epoch - 25ms/step\n",
      "Epoch 163/195\n",
      "2/2 - 0s - loss: 0.0032 - mae: 0.0413 - val_loss: 0.0034 - val_mae: 0.0490 - 48ms/epoch - 24ms/step\n",
      "Epoch 164/195\n",
      "2/2 - 0s - loss: 0.0031 - mae: 0.0409 - val_loss: 0.0037 - val_mae: 0.0522 - 49ms/epoch - 25ms/step\n",
      "Epoch 165/195\n",
      "2/2 - 0s - loss: 0.0032 - mae: 0.0428 - val_loss: 0.0038 - val_mae: 0.0528 - 49ms/epoch - 25ms/step\n",
      "Epoch 166/195\n",
      "2/2 - 0s - loss: 0.0031 - mae: 0.0422 - val_loss: 0.0036 - val_mae: 0.0496 - 48ms/epoch - 24ms/step\n",
      "Epoch 167/195\n",
      "2/2 - 0s - loss: 0.0030 - mae: 0.0401 - val_loss: 0.0033 - val_mae: 0.0441 - 48ms/epoch - 24ms/step\n",
      "Epoch 168/195\n",
      "2/2 - 0s - loss: 0.0035 - mae: 0.0430 - val_loss: 0.0033 - val_mae: 0.0436 - 50ms/epoch - 25ms/step\n",
      "Epoch 169/195\n",
      "2/2 - 0s - loss: 0.0033 - mae: 0.0419 - val_loss: 0.0038 - val_mae: 0.0511 - 49ms/epoch - 24ms/step\n",
      "Epoch 170/195\n",
      "2/2 - 0s - loss: 0.0031 - mae: 0.0419 - val_loss: 0.0043 - val_mae: 0.0564 - 48ms/epoch - 24ms/step\n",
      "Epoch 171/195\n",
      "2/2 - 0s - loss: 0.0032 - mae: 0.0434 - val_loss: 0.0036 - val_mae: 0.0523 - 51ms/epoch - 25ms/step\n",
      "Epoch 172/195\n",
      "2/2 - 0s - loss: 0.0032 - mae: 0.0428 - val_loss: 0.0030 - val_mae: 0.0473 - 48ms/epoch - 24ms/step\n",
      "Epoch 173/195\n",
      "2/2 - 0s - loss: 0.0031 - mae: 0.0411 - val_loss: 0.0031 - val_mae: 0.0463 - 49ms/epoch - 24ms/step\n",
      "Epoch 174/195\n",
      "2/2 - 0s - loss: 0.0031 - mae: 0.0394 - val_loss: 0.0037 - val_mae: 0.0501 - 50ms/epoch - 25ms/step\n",
      "Epoch 175/195\n",
      "2/2 - 0s - loss: 0.0030 - mae: 0.0404 - val_loss: 0.0046 - val_mae: 0.0558 - 49ms/epoch - 24ms/step\n",
      "Epoch 176/195\n",
      "2/2 - 0s - loss: 0.0031 - mae: 0.0417 - val_loss: 0.0058 - val_mae: 0.0621 - 49ms/epoch - 24ms/step\n",
      "Epoch 177/195\n",
      "2/2 - 0s - loss: 0.0032 - mae: 0.0424 - val_loss: 0.0066 - val_mae: 0.0646 - 49ms/epoch - 24ms/step\n",
      "Epoch 178/195\n",
      "2/2 - 0s - loss: 0.0031 - mae: 0.0414 - val_loss: 0.0062 - val_mae: 0.0603 - 48ms/epoch - 24ms/step\n",
      "Epoch 179/195\n",
      "2/2 - 0s - loss: 0.0030 - mae: 0.0400 - val_loss: 0.0051 - val_mae: 0.0530 - 50ms/epoch - 25ms/step\n",
      "Epoch 180/195\n",
      "2/2 - 0s - loss: 0.0031 - mae: 0.0399 - val_loss: 0.0041 - val_mae: 0.0460 - 52ms/epoch - 26ms/step\n",
      "Epoch 181/195\n",
      "2/2 - 0s - loss: 0.0031 - mae: 0.0405 - val_loss: 0.0040 - val_mae: 0.0454 - 47ms/epoch - 23ms/step\n",
      "Epoch 182/195\n",
      "2/2 - 0s - loss: 0.0030 - mae: 0.0398 - val_loss: 0.0046 - val_mae: 0.0516 - 48ms/epoch - 24ms/step\n",
      "Epoch 183/195\n",
      "2/2 - 0s - loss: 0.0030 - mae: 0.0407 - val_loss: 0.0056 - val_mae: 0.0594 - 47ms/epoch - 23ms/step\n",
      "Epoch 184/195\n",
      "2/2 - 0s - loss: 0.0032 - mae: 0.0434 - val_loss: 0.0049 - val_mae: 0.0564 - 47ms/epoch - 23ms/step\n",
      "Epoch 185/195\n",
      "2/2 - 0s - loss: 0.0030 - mae: 0.0405 - val_loss: 0.0037 - val_mae: 0.0470 - 48ms/epoch - 24ms/step\n",
      "Epoch 186/195\n",
      "2/2 - 0s - loss: 0.0030 - mae: 0.0380 - val_loss: 0.0039 - val_mae: 0.0490 - 49ms/epoch - 25ms/step\n",
      "Epoch 187/195\n",
      "2/2 - 0s - loss: 0.0028 - mae: 0.0381 - val_loss: 0.0063 - val_mae: 0.0605 - 49ms/epoch - 24ms/step\n",
      "Epoch 188/195\n",
      "2/2 - 0s - loss: 0.0031 - mae: 0.0419 - val_loss: 0.0087 - val_mae: 0.0676 - 48ms/epoch - 24ms/step\n",
      "Epoch 189/195\n",
      "2/2 - 0s - loss: 0.0035 - mae: 0.0434 - val_loss: 0.0081 - val_mae: 0.0622 - 49ms/epoch - 24ms/step\n",
      "Epoch 190/195\n",
      "2/2 - 0s - loss: 0.0037 - mae: 0.0424 - val_loss: 0.0065 - val_mae: 0.0548 - 50ms/epoch - 25ms/step\n",
      "Epoch 191/195\n",
      "2/2 - 0s - loss: 0.0034 - mae: 0.0410 - val_loss: 0.0055 - val_mae: 0.0531 - 50ms/epoch - 25ms/step\n",
      "Epoch 192/195\n",
      "2/2 - 0s - loss: 0.0029 - mae: 0.0384 - val_loss: 0.0046 - val_mae: 0.0525 - 51ms/epoch - 25ms/step\n",
      "Epoch 193/195\n",
      "2/2 - 0s - loss: 0.0033 - mae: 0.0434 - val_loss: 0.0047 - val_mae: 0.0546 - 49ms/epoch - 24ms/step\n",
      "Epoch 194/195\n",
      "2/2 - 0s - loss: 0.0033 - mae: 0.0444 - val_loss: 0.0048 - val_mae: 0.0543 - 49ms/epoch - 24ms/step\n",
      "Epoch 195/195\n",
      "2/2 - 0s - loss: 0.0030 - mae: 0.0412 - val_loss: 0.0042 - val_mae: 0.0492 - 51ms/epoch - 26ms/step\n",
      "CPU times: user 12.1 s, sys: 4.1 s, total: 16.2 s\n",
      "Wall time: 12.2 s\n"
     ]
    }
   ],
   "source": [
    "%%time\n",
    "# callback = tf.keras.callbacks.EarlyStopping(monitor='loss', restore_best_weights=True, patience=10)\n",
    "# with tf.device(\"/GPU:0\"):\n",
    "#     history = model.fit(X_train, y_train, validation_split=0.1, epochs=2000, verbose=2, callbacks=[callback])\n",
    "with tf.device(\"/GPU:0\"):\n",
    "    history = model.fit(X_train, y_train, validation_split=0.1, epochs=195, verbose=2)"
   ]
  },
  {
   "cell_type": "code",
   "execution_count": 2813,
   "id": "cff83ebf",
   "metadata": {},
   "outputs": [
    {
     "data": {
      "text/plain": [
       "195"
      ]
     },
     "execution_count": 2813,
     "metadata": {},
     "output_type": "execute_result"
    }
   ],
   "source": [
    "len(history.history['loss'])"
   ]
  },
  {
   "cell_type": "code",
   "execution_count": 2814,
   "id": "132dfcf5",
   "metadata": {
    "scrolled": true
   },
   "outputs": [
    {
     "name": "stdout",
     "output_type": "stream",
     "text": [
      "23/23 - 0s - loss: 0.0031 - mae: 0.0399 - 371ms/epoch - 16ms/step\n",
      "10/10 - 0s - loss: 0.0026 - mae: 0.0393 - 77ms/epoch - 8ms/step\n",
      "\n"
     ]
    }
   ],
   "source": [
    "model.evaluate(X_train, y_train, batch_size=2, verbose=2)\n",
    "model.evaluate(X_test, y_test, batch_size=2, verbose=2)\n",
    "print()"
   ]
  },
  {
   "cell_type": "code",
   "execution_count": 2815,
   "id": "61acae4f",
   "metadata": {},
   "outputs": [
    {
     "data": {
      "image/png": "[encoded data removed]",
      "text/plain": [
       "<Figure size 640x480 with 1 Axes>"
      ]
     },
     "metadata": {},
     "output_type": "display_data"
    }
   ],
   "source": [
    "plt.plot(history.history['mae'], label='Средняя абсолютная ошибка на обучающем наборе')\n",
    "plt.plot(history.history['val_mae'], label='Средняя абсолютная ошибка на проверочном наборе')\n",
    "plt.xlabel('Эпоха обучения')\n",
    "plt.ylabel('Средняя абсолютная ошибка')\n",
    "plt.legend()\n",
    "plt.show()"
   ]
  },
  {
   "cell_type": "code",
   "execution_count": 2816,
   "id": "0577d9aa",
   "metadata": {},
   "outputs": [
    {
     "name": "stdout",
     "output_type": "stream",
     "text": [
      "1/1 [==============================] - 0s 122ms/step\n",
      "[[1.2350267  1.8012377 ]\n",
      " [1.2350267  1.8012377 ]\n",
      " [1.5210862  2.5170379 ]\n",
      " [1.2350267  1.8012377 ]\n",
      " [1.6799691  2.4844353 ]\n",
      " [1.2350267  1.8012377 ]\n",
      " [1.1298169  1.786276  ]\n",
      " [1.0240017  1.8461229 ]\n",
      " [1.3001729  1.7651752 ]\n",
      " [0.85829854 2.0684526 ]\n",
      " [0.85829854 2.0684526 ]\n",
      " [1.1716337  1.9641844 ]\n",
      " [1.1475787  1.7855427 ]\n",
      " [1.0240017  1.8461229 ]\n",
      " [0.8123725  2.2713723 ]\n",
      " [0.949055   1.9890611 ]\n",
      " [1.5210862  2.5170379 ]\n",
      " [1.1298169  1.786276  ]\n",
      " [1.1475787  1.7855427 ]\n",
      " [1.1716337  1.9641844 ]]\n"
     ]
    },
    {
     "name": "stderr",
     "output_type": "stream",
     "text": [
      "2022-11-26 12:24:50.364840: I tensorflow/core/grappler/optimizers/custom_graph_optimizer_registry.cc:113] Plugin optimizer for device_type GPU is enabled.\n"
     ]
    }
   ],
   "source": [
    "y_pred = model.predict(X_test)\n",
    "print(y_pred)"
   ]
  },
  {
   "cell_type": "code",
   "execution_count": 2817,
   "id": "bd2b33c2",
   "metadata": {},
   "outputs": [
    {
     "name": "stdout",
     "output_type": "stream",
     "text": [
      "R2: 0.96\n"
     ]
    }
   ],
   "source": [
    "# Calculating R2 - the value of the coefficient of determination for the expected test model\n",
    "r2 = r2_score(y_true = y_test, y_pred = y_pred)\n",
    "print(f'R2: {r2:.2f}')"
   ]
  },
  {
   "cell_type": "code",
   "execution_count": 2818,
   "id": "49273897",
   "metadata": {},
   "outputs": [
    {
     "name": "stdout",
     "output_type": "stream",
     "text": [
      "Mean absolute error: 0.04\n",
      "Mean squared error: 0.00\n",
      "Root mean squared error: 0.05\n"
     ]
    }
   ],
   "source": [
    "# Evaluating the Model\n",
    "mae = mean_absolute_error(y_test, y_pred)\n",
    "mse = mean_squared_error(y_test, y_pred)\n",
    "rmse = np.sqrt(mse)\n",
    "print(f'Mean absolute error: {mae:.2f}')\n",
    "print(f'Mean squared error: {mse:.2f}')\n",
    "print(f'Root mean squared error: {rmse:.2f}')"
   ]
  },
  {
   "cell_type": "code",
   "execution_count": 2819,
   "id": "74ed5722",
   "metadata": {},
   "outputs": [
    {
     "name": "stdout",
     "output_type": "stream",
     "text": [
      "INFO:tensorflow:Assets written to: case_3_1_model/assets\n"
     ]
    }
   ],
   "source": [
    "# Save trained model\n",
    "model.save(\"case_3_1_model\")"
   ]
  },
  {
   "cell_type": "code",
   "execution_count": 2820,
   "id": "17da97f6",
   "metadata": {},
   "outputs": [],
   "source": [
    "# Load model from disk\n",
    "test_model = tf.keras.models.load_model(\"case_3_1_model\")"
   ]
  },
  {
   "cell_type": "code",
   "execution_count": 2821,
   "id": "86f68e64",
   "metadata": {},
   "outputs": [
    {
     "name": "stdout",
     "output_type": "stream",
     "text": [
      "1/1 [==============================] - 0s 105ms/step\n",
      "[[1.2350267  1.8012377 ]\n",
      " [1.2350267  1.8012377 ]\n",
      " [1.5210862  2.5170379 ]\n",
      " [1.2350267  1.8012377 ]\n",
      " [1.6799691  2.4844353 ]\n",
      " [1.2350267  1.8012377 ]\n",
      " [1.1298169  1.786276  ]\n",
      " [1.0240017  1.8461229 ]\n",
      " [1.3001729  1.7651752 ]\n",
      " [0.85829854 2.0684526 ]\n",
      " [0.85829854 2.0684526 ]\n",
      " [1.1716337  1.9641844 ]\n",
      " [1.1475787  1.7855427 ]\n",
      " [1.0240017  1.8461229 ]\n",
      " [0.8123725  2.2713723 ]\n",
      " [0.949055   1.9890611 ]\n",
      " [1.5210862  2.5170379 ]\n",
      " [1.1298169  1.786276  ]\n",
      " [1.1475787  1.7855427 ]\n",
      " [1.1716337  1.9641844 ]]\n"
     ]
    },
    {
     "name": "stderr",
     "output_type": "stream",
     "text": [
      "2022-11-26 12:24:51.778618: I tensorflow/core/grappler/optimizers/custom_graph_optimizer_registry.cc:113] Plugin optimizer for device_type GPU is enabled.\n"
     ]
    }
   ],
   "source": [
    "# Test prediction with loaded model\n",
    "test_y_pred = test_model.predict(X_test)\n",
    "print(test_y_pred)"
   ]
  },
  {
   "cell_type": "code",
   "execution_count": 2822,
   "id": "49e94772",
   "metadata": {},
   "outputs": [
    {
     "data": {
      "text/plain": [
       "array([[ True,  True],\n",
       "       [ True,  True],\n",
       "       [ True,  True],\n",
       "       [ True,  True],\n",
       "       [ True,  True],\n",
       "       [ True,  True],\n",
       "       [ True,  True],\n",
       "       [ True,  True],\n",
       "       [ True,  True],\n",
       "       [ True,  True],\n",
       "       [ True,  True],\n",
       "       [ True,  True],\n",
       "       [ True,  True],\n",
       "       [ True,  True],\n",
       "       [ True,  True],\n",
       "       [ True,  True],\n",
       "       [ True,  True],\n",
       "       [ True,  True],\n",
       "       [ True,  True],\n",
       "       [ True,  True]])"
      ]
     },
     "execution_count": 2822,
     "metadata": {},
     "output_type": "execute_result"
    }
   ],
   "source": [
    "# Comparision predictions of both models\n",
    "test_y_pred == y_pred"
   ]
  }
 ],
 "metadata": {
  "kernelspec": {
   "display_name": "Python 3 (ipykernel)",
   "language": "python",
   "name": "python3"
  },
  "language_info": {
   "codemirror_mode": {
    "name": "ipython",
    "version": 3
   },
   "file_extension": ".py",
   "mimetype": "text/x-python",
   "name": "python",
   "nbconvert_exporter": "python",
   "pygments_lexer": "ipython3",
   "version": "3.10.6"
  }
 },
 "nbformat": 4,
 "nbformat_minor": 5
}
