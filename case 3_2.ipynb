{
 "cells": [
  {
   "cell_type": "code",
   "execution_count": 1672,
   "id": "df39e593",
   "metadata": {},
   "outputs": [],
   "source": [
    "import warnings\n",
    "warnings.filterwarnings(\"ignore\")\n",
    "\n",
    "import pandas as pd\n",
    "import numpy as np\n",
    "import matplotlib.pyplot as plt\n",
    "%matplotlib inline\n",
    "import seaborn as sns\n",
    "\n",
    "from sklearn.model_selection import train_test_split\n",
    "from sklearn.linear_model import LinearRegression\n",
    "from sklearn.ensemble import RandomForestRegressor, GradientBoostingRegressor\n",
    "from sklearn.multioutput import MultiOutputRegressor\n",
    "from sklearn.metrics import mean_absolute_error, mean_squared_error\n",
    "from sklearn.metrics import r2_score"
   ]
  },
  {
   "cell_type": "code",
   "execution_count": 1673,
   "id": "d341f333",
   "metadata": {},
   "outputs": [
    {
     "data": {
      "text/html": [
       "<div>\n",
       "<style scoped>\n",
       "    .dataframe tbody tr th:only-of-type {\n",
       "        vertical-align: middle;\n",
       "    }\n",
       "\n",
       "    .dataframe tbody tr th {\n",
       "        vertical-align: top;\n",
       "    }\n",
       "\n",
       "    .dataframe thead th {\n",
       "        text-align: right;\n",
       "    }\n",
       "</style>\n",
       "<table border=\"1\" class=\"dataframe\">\n",
       "  <thead>\n",
       "    <tr style=\"text-align: right;\">\n",
       "      <th></th>\n",
       "      <th>IW</th>\n",
       "      <th>IF</th>\n",
       "      <th>VW</th>\n",
       "      <th>FP</th>\n",
       "      <th>Depth</th>\n",
       "      <th>Width</th>\n",
       "    </tr>\n",
       "  </thead>\n",
       "  <tbody>\n",
       "    <tr>\n",
       "      <th>0</th>\n",
       "      <td>47</td>\n",
       "      <td>139</td>\n",
       "      <td>4.5</td>\n",
       "      <td>80</td>\n",
       "      <td>1.60</td>\n",
       "      <td>2.54</td>\n",
       "    </tr>\n",
       "    <tr>\n",
       "      <th>1</th>\n",
       "      <td>47</td>\n",
       "      <td>139</td>\n",
       "      <td>4.5</td>\n",
       "      <td>80</td>\n",
       "      <td>1.62</td>\n",
       "      <td>2.50</td>\n",
       "    </tr>\n",
       "    <tr>\n",
       "      <th>2</th>\n",
       "      <td>47</td>\n",
       "      <td>139</td>\n",
       "      <td>4.5</td>\n",
       "      <td>80</td>\n",
       "      <td>1.68</td>\n",
       "      <td>2.60</td>\n",
       "    </tr>\n",
       "    <tr>\n",
       "      <th>3</th>\n",
       "      <td>47</td>\n",
       "      <td>139</td>\n",
       "      <td>4.5</td>\n",
       "      <td>80</td>\n",
       "      <td>1.58</td>\n",
       "      <td>2.52</td>\n",
       "    </tr>\n",
       "    <tr>\n",
       "      <th>4</th>\n",
       "      <td>45</td>\n",
       "      <td>140</td>\n",
       "      <td>4.5</td>\n",
       "      <td>80</td>\n",
       "      <td>1.76</td>\n",
       "      <td>2.48</td>\n",
       "    </tr>\n",
       "  </tbody>\n",
       "</table>\n",
       "</div>"
      ],
      "text/plain": [
       "   IW   IF   VW  FP  Depth  Width\n",
       "0  47  139  4.5  80   1.60   2.54\n",
       "1  47  139  4.5  80   1.62   2.50\n",
       "2  47  139  4.5  80   1.68   2.60\n",
       "3  47  139  4.5  80   1.58   2.52\n",
       "4  45  140  4.5  80   1.76   2.48"
      ]
     },
     "execution_count": 1673,
     "metadata": {},
     "output_type": "execute_result"
    }
   ],
   "source": [
    "# Read in data into a dataframe\n",
    "data = pd.read_csv('ebw_data.csv')\n",
    "\n",
    "# Display top of dataframe\n",
    "data.head()"
   ]
  },
  {
   "cell_type": "code",
   "execution_count": 1674,
   "id": "74fb1a6a",
   "metadata": {},
   "outputs": [
    {
     "data": {
      "text/html": [
       "<div>\n",
       "<style scoped>\n",
       "    .dataframe tbody tr th:only-of-type {\n",
       "        vertical-align: middle;\n",
       "    }\n",
       "\n",
       "    .dataframe tbody tr th {\n",
       "        vertical-align: top;\n",
       "    }\n",
       "\n",
       "    .dataframe thead th {\n",
       "        text-align: right;\n",
       "    }\n",
       "</style>\n",
       "<table border=\"1\" class=\"dataframe\">\n",
       "  <thead>\n",
       "    <tr style=\"text-align: right;\">\n",
       "      <th></th>\n",
       "      <th>IW</th>\n",
       "      <th>IF</th>\n",
       "      <th>VW</th>\n",
       "      <th>FP</th>\n",
       "      <th>Depth</th>\n",
       "      <th>Width</th>\n",
       "    </tr>\n",
       "  </thead>\n",
       "  <tbody>\n",
       "    <tr>\n",
       "      <th>count</th>\n",
       "      <td>72.000000</td>\n",
       "      <td>72.000000</td>\n",
       "      <td>72.000000</td>\n",
       "      <td>72.000000</td>\n",
       "      <td>72.000000</td>\n",
       "      <td>72.000000</td>\n",
       "    </tr>\n",
       "    <tr>\n",
       "      <th>mean</th>\n",
       "      <td>45.666667</td>\n",
       "      <td>141.333333</td>\n",
       "      <td>8.638889</td>\n",
       "      <td>78.333333</td>\n",
       "      <td>1.195556</td>\n",
       "      <td>1.970417</td>\n",
       "    </tr>\n",
       "    <tr>\n",
       "      <th>std</th>\n",
       "      <td>1.678363</td>\n",
       "      <td>5.145763</td>\n",
       "      <td>2.061078</td>\n",
       "      <td>21.493530</td>\n",
       "      <td>0.225081</td>\n",
       "      <td>0.279040</td>\n",
       "    </tr>\n",
       "    <tr>\n",
       "      <th>min</th>\n",
       "      <td>43.000000</td>\n",
       "      <td>131.000000</td>\n",
       "      <td>4.500000</td>\n",
       "      <td>50.000000</td>\n",
       "      <td>0.800000</td>\n",
       "      <td>1.680000</td>\n",
       "    </tr>\n",
       "    <tr>\n",
       "      <th>25%</th>\n",
       "      <td>44.000000</td>\n",
       "      <td>139.000000</td>\n",
       "      <td>8.000000</td>\n",
       "      <td>60.000000</td>\n",
       "      <td>1.080000</td>\n",
       "      <td>1.760000</td>\n",
       "    </tr>\n",
       "    <tr>\n",
       "      <th>50%</th>\n",
       "      <td>45.500000</td>\n",
       "      <td>141.000000</td>\n",
       "      <td>9.000000</td>\n",
       "      <td>80.000000</td>\n",
       "      <td>1.200000</td>\n",
       "      <td>1.840000</td>\n",
       "    </tr>\n",
       "    <tr>\n",
       "      <th>75%</th>\n",
       "      <td>47.000000</td>\n",
       "      <td>146.000000</td>\n",
       "      <td>10.000000</td>\n",
       "      <td>80.000000</td>\n",
       "      <td>1.290000</td>\n",
       "      <td>2.050000</td>\n",
       "    </tr>\n",
       "    <tr>\n",
       "      <th>max</th>\n",
       "      <td>49.000000</td>\n",
       "      <td>150.000000</td>\n",
       "      <td>12.000000</td>\n",
       "      <td>125.000000</td>\n",
       "      <td>1.760000</td>\n",
       "      <td>2.600000</td>\n",
       "    </tr>\n",
       "  </tbody>\n",
       "</table>\n",
       "</div>"
      ],
      "text/plain": [
       "              IW          IF         VW          FP      Depth      Width\n",
       "count  72.000000   72.000000  72.000000   72.000000  72.000000  72.000000\n",
       "mean   45.666667  141.333333   8.638889   78.333333   1.195556   1.970417\n",
       "std     1.678363    5.145763   2.061078   21.493530   0.225081   0.279040\n",
       "min    43.000000  131.000000   4.500000   50.000000   0.800000   1.680000\n",
       "25%    44.000000  139.000000   8.000000   60.000000   1.080000   1.760000\n",
       "50%    45.500000  141.000000   9.000000   80.000000   1.200000   1.840000\n",
       "75%    47.000000  146.000000  10.000000   80.000000   1.290000   2.050000\n",
       "max    49.000000  150.000000  12.000000  125.000000   1.760000   2.600000"
      ]
     },
     "execution_count": 1674,
     "metadata": {},
     "output_type": "execute_result"
    }
   ],
   "source": [
    "# Statistical measures of the training dataset\n",
    "data.describe()"
   ]
  },
  {
   "cell_type": "code",
   "execution_count": 1675,
   "id": "cae60f10",
   "metadata": {},
   "outputs": [
    {
     "name": "stdout",
     "output_type": "stream",
     "text": [
      "<class 'pandas.core.frame.DataFrame'>\n",
      "RangeIndex: 72 entries, 0 to 71\n",
      "Data columns (total 6 columns):\n",
      " #   Column  Non-Null Count  Dtype  \n",
      "---  ------  --------------  -----  \n",
      " 0   IW      72 non-null     int64  \n",
      " 1   IF      72 non-null     int64  \n",
      " 2   VW      72 non-null     float64\n",
      " 3   FP      72 non-null     int64  \n",
      " 4   Depth   72 non-null     float64\n",
      " 5   Width   72 non-null     float64\n",
      "dtypes: float64(3), int64(3)\n",
      "memory usage: 3.5 KB\n"
     ]
    }
   ],
   "source": [
    "# See the column data types and non-missing values\n",
    "data.info()"
   ]
  },
  {
   "cell_type": "code",
   "execution_count": 1676,
   "id": "82622821",
   "metadata": {},
   "outputs": [
    {
     "data": {
      "text/html": [
       "<div>\n",
       "<style scoped>\n",
       "    .dataframe tbody tr th:only-of-type {\n",
       "        vertical-align: middle;\n",
       "    }\n",
       "\n",
       "    .dataframe tbody tr th {\n",
       "        vertical-align: top;\n",
       "    }\n",
       "\n",
       "    .dataframe thead th {\n",
       "        text-align: right;\n",
       "    }\n",
       "</style>\n",
       "<table border=\"1\" class=\"dataframe\">\n",
       "  <thead>\n",
       "    <tr style=\"text-align: right;\">\n",
       "      <th></th>\n",
       "      <th>IW</th>\n",
       "      <th>IF</th>\n",
       "      <th>VW</th>\n",
       "      <th>FP</th>\n",
       "      <th>Depth</th>\n",
       "      <th>Width</th>\n",
       "    </tr>\n",
       "  </thead>\n",
       "  <tbody>\n",
       "    <tr>\n",
       "      <th>11</th>\n",
       "      <td>45</td>\n",
       "      <td>140</td>\n",
       "      <td>8.0</td>\n",
       "      <td>80</td>\n",
       "      <td>1.20</td>\n",
       "      <td>1.96</td>\n",
       "    </tr>\n",
       "    <tr>\n",
       "      <th>31</th>\n",
       "      <td>47</td>\n",
       "      <td>139</td>\n",
       "      <td>4.5</td>\n",
       "      <td>80</td>\n",
       "      <td>1.36</td>\n",
       "      <td>2.48</td>\n",
       "    </tr>\n",
       "    <tr>\n",
       "      <th>46</th>\n",
       "      <td>46</td>\n",
       "      <td>146</td>\n",
       "      <td>10.0</td>\n",
       "      <td>60</td>\n",
       "      <td>1.36</td>\n",
       "      <td>1.76</td>\n",
       "    </tr>\n",
       "    <tr>\n",
       "      <th>54</th>\n",
       "      <td>43</td>\n",
       "      <td>150</td>\n",
       "      <td>9.0</td>\n",
       "      <td>50</td>\n",
       "      <td>1.08</td>\n",
       "      <td>1.82</td>\n",
       "    </tr>\n",
       "    <tr>\n",
       "      <th>55</th>\n",
       "      <td>43</td>\n",
       "      <td>150</td>\n",
       "      <td>9.0</td>\n",
       "      <td>50</td>\n",
       "      <td>1.08</td>\n",
       "      <td>1.82</td>\n",
       "    </tr>\n",
       "    <tr>\n",
       "      <th>59</th>\n",
       "      <td>44</td>\n",
       "      <td>146</td>\n",
       "      <td>9.0</td>\n",
       "      <td>60</td>\n",
       "      <td>1.20</td>\n",
       "      <td>1.76</td>\n",
       "    </tr>\n",
       "    <tr>\n",
       "      <th>70</th>\n",
       "      <td>45</td>\n",
       "      <td>146</td>\n",
       "      <td>9.0</td>\n",
       "      <td>60</td>\n",
       "      <td>1.28</td>\n",
       "      <td>1.76</td>\n",
       "    </tr>\n",
       "  </tbody>\n",
       "</table>\n",
       "</div>"
      ],
      "text/plain": [
       "    IW   IF    VW  FP  Depth  Width\n",
       "11  45  140   8.0  80   1.20   1.96\n",
       "31  47  139   4.5  80   1.36   2.48\n",
       "46  46  146  10.0  60   1.36   1.76\n",
       "54  43  150   9.0  50   1.08   1.82\n",
       "55  43  150   9.0  50   1.08   1.82\n",
       "59  44  146   9.0  60   1.20   1.76\n",
       "70  45  146   9.0  60   1.28   1.76"
      ]
     },
     "execution_count": 1676,
     "metadata": {},
     "output_type": "execute_result"
    }
   ],
   "source": [
    "# Find duplicates\n",
    "data[data.duplicated()]"
   ]
  },
  {
   "cell_type": "code",
   "execution_count": 1677,
   "id": "3f86230a",
   "metadata": {},
   "outputs": [
    {
     "name": "stdout",
     "output_type": "stream",
     "text": [
      "<class 'pandas.core.frame.DataFrame'>\n",
      "Int64Index: 65 entries, 0 to 71\n",
      "Data columns (total 6 columns):\n",
      " #   Column  Non-Null Count  Dtype  \n",
      "---  ------  --------------  -----  \n",
      " 0   IW      65 non-null     int64  \n",
      " 1   IF      65 non-null     int64  \n",
      " 2   VW      65 non-null     float64\n",
      " 3   FP      65 non-null     int64  \n",
      " 4   Depth   65 non-null     float64\n",
      " 5   Width   65 non-null     float64\n",
      "dtypes: float64(3), int64(3)\n",
      "memory usage: 3.6 KB\n"
     ]
    }
   ],
   "source": [
    "# Drop duplicated rows, keep first\n",
    "data = data.drop_duplicates(keep='first')\n",
    "data.info()"
   ]
  },
  {
   "cell_type": "code",
   "execution_count": 1678,
   "id": "615625bd",
   "metadata": {},
   "outputs": [
    {
     "data": {
      "text/plain": [
       "VW      -0.873454\n",
       "IF      -0.492898\n",
       "FP       0.394702\n",
       "IW       0.413800\n",
       "Depth    0.433860\n",
       "Width    1.000000\n",
       "Name: Width, dtype: float64"
      ]
     },
     "execution_count": 1678,
     "metadata": {},
     "output_type": "execute_result"
    }
   ],
   "source": [
    "# Find all correlations with the Width and sort\n",
    "data.corr()['Width'].sort_values()"
   ]
  },
  {
   "cell_type": "code",
   "execution_count": 1679,
   "id": "32bcba44",
   "metadata": {},
   "outputs": [
    {
     "data": {
      "text/plain": [
       "VW      -0.687108\n",
       "FP      -0.546500\n",
       "IW      -0.341494\n",
       "IF       0.421896\n",
       "Width    0.433860\n",
       "Depth    1.000000\n",
       "Name: Depth, dtype: float64"
      ]
     },
     "execution_count": 1679,
     "metadata": {},
     "output_type": "execute_result"
    }
   ],
   "source": [
    "# Find all correlations with the Depth and sort\n",
    "data.corr()['Depth'].sort_values()"
   ]
  },
  {
   "cell_type": "code",
   "execution_count": 1700,
   "id": "f22109bd",
   "metadata": {},
   "outputs": [
    {
     "data": {
      "text/plain": [
       "<AxesSubplot: >"
      ]
     },
     "execution_count": 1700,
     "metadata": {},
     "output_type": "execute_result"
    },
    {
     "data": {
      "image/png": "[encoded data removed]",
      "text/plain": [
       "<Figure size 500x300 with 2 Axes>"
      ]
     },
     "metadata": {},
     "output_type": "display_data"
    }
   ],
   "source": [
    "# Correlation heatmap\n",
    "cmap = sns.diverging_palette(5, 250, as_cmap=True)\n",
    "plt.figure(figsize=(5,3))\n",
    "mask = np.zeros_like(data.corr(), dtype=np.bool)\n",
    "mask[np.triu_indices_from(mask)] = True\n",
    "sns.heatmap(data=data.corr(), cmap=cmap, annot=True,linewidths=0.5, linecolor='white',mask=mask)"
   ]
  },
  {
   "cell_type": "code",
   "execution_count": 1681,
   "id": "f015bf8e",
   "metadata": {},
   "outputs": [],
   "source": [
    "# Separating out the features and targets\n",
    "features = data.drop(columns=['Width', 'Depth'])\n",
    "targets = data.drop(columns=['IF', 'FP', 'IW', 'VW'])"
   ]
  },
  {
   "cell_type": "code",
   "execution_count": 1682,
   "id": "9d44b28a",
   "metadata": {},
   "outputs": [
    {
     "name": "stdout",
     "output_type": "stream",
     "text": [
      "(45, 4) (20, 4)\n",
      "(45, 2) (20, 2)\n"
     ]
    }
   ],
   "source": [
    "# Splitting into 70% training and 30% testing set\n",
    "X_train, X_test, y_train, y_test = train_test_split(features, targets, test_size = 0.3, random_state = 42)\n",
    "print(X_train.shape, X_test.shape)\n",
    "print(y_train.shape, y_test.shape)"
   ]
  },
  {
   "cell_type": "code",
   "execution_count": 1683,
   "id": "da2ca1b7",
   "metadata": {},
   "outputs": [
    {
     "name": "stdout",
     "output_type": "stream",
     "text": [
      "[14.66524752  2.73477018]\n",
      "[[ 0.01435022 -0.08275264 -0.04695704 -0.02570023]\n",
      " [ 0.03128333 -0.0090395  -0.11432043  0.00100057]]\n"
     ]
    }
   ],
   "source": [
    "# Training a Linear Regression Model\n",
    "regressor = LinearRegression()\n",
    "regressor.fit(X_train, y_train)\n",
    "\n",
    "print(regressor.intercept_)\n",
    "print(regressor.coef_)"
   ]
  },
  {
   "cell_type": "code",
   "execution_count": 1684,
   "id": "0577d9aa",
   "metadata": {},
   "outputs": [
    {
     "data": {
      "text/plain": [
       "array([[1.25014486, 1.82261969],\n",
       "       [1.25014486, 1.82261969],\n",
       "       [1.56976608, 2.51419955],\n",
       "       [1.25014486, 1.82261969],\n",
       "       [1.458313  , 2.4425934 ],\n",
       "       [1.25014486, 1.82261969],\n",
       "       [1.13164689, 1.83607484],\n",
       "       [1.11729667, 1.80479152],\n",
       "       [1.26449507, 1.85390301],\n",
       "       [0.83136344, 2.03406223],\n",
       "       [0.83136344, 2.03406223],\n",
       "       [1.29396338, 2.04247188],\n",
       "       [1.22874974, 1.87639767],\n",
       "       [1.11729667, 1.80479152],\n",
       "       [0.85687509, 2.28494691],\n",
       "       [0.95425873, 1.96065182],\n",
       "       [1.56976608, 2.51419955],\n",
       "       [1.13164689, 1.83607484],\n",
       "       [1.22874974, 1.87639767],\n",
       "       [1.29396338, 2.04247188]])"
      ]
     },
     "execution_count": 1684,
     "metadata": {},
     "output_type": "execute_result"
    }
   ],
   "source": [
    "# Making Predictions\n",
    "y_pred = regressor.predict(X_test)\n",
    "y_pred"
   ]
  },
  {
   "cell_type": "code",
   "execution_count": 1685,
   "id": "f98a40c5",
   "metadata": {},
   "outputs": [
    {
     "name": "stdout",
     "output_type": "stream",
     "text": [
      "R2: 0.90\n"
     ]
    }
   ],
   "source": [
    "# Calculating R2 - the value of the coefficient of determination for the expected test model\n",
    "r2 = r2_score(y_true = y_test, y_pred = y_pred)\n",
    "print(f'R2: {r2:.2f}')"
   ]
  },
  {
   "cell_type": "code",
   "execution_count": 1686,
   "id": "200f38e4",
   "metadata": {},
   "outputs": [
    {
     "name": "stdout",
     "output_type": "stream",
     "text": [
      "Linear Regression Model:\n",
      "Mean absolute error: 0.06\n",
      "Mean squared error: 0.01\n",
      "Root mean squared error: 0.08\n"
     ]
    }
   ],
   "source": [
    "# Evaluating the Model\n",
    "mae = mean_absolute_error(y_test, y_pred)\n",
    "mse = mean_squared_error(y_test, y_pred)\n",
    "rmse = np.sqrt(mse)\n",
    "print('Linear Regression Model:')\n",
    "print(f'Mean absolute error: {mae:.2f}')\n",
    "print(f'Mean squared error: {mse:.2f}')\n",
    "print(f'Root mean squared error: {rmse:.2f}')"
   ]
  },
  {
   "cell_type": "code",
   "execution_count": 1687,
   "id": "24e0d2c4",
   "metadata": {},
   "outputs": [
    {
     "data": {
      "text/html": [
       "<style>#sk-container-id-33 {color: black;background-color: white;}#sk-container-id-33 pre{padding: 0;}#sk-container-id-33 div.sk-toggleable {background-color: white;}#sk-container-id-33 label.sk-toggleable__label {cursor: pointer;display: block;width: 100%;margin-bottom: 0;padding: 0.3em;box-sizing: border-box;text-align: center;}#sk-container-id-33 label.sk-toggleable__label-arrow:before {content: \"▸\";float: left;margin-right: 0.25em;color: #696969;}#sk-container-id-33 label.sk-toggleable__label-arrow:hover:before {color: black;}#sk-container-id-33 div.sk-estimator:hover label.sk-toggleable__label-arrow:before {color: black;}#sk-container-id-33 div.sk-toggleable__content {max-height: 0;max-width: 0;overflow: hidden;text-align: left;background-color: #f0f8ff;}#sk-container-id-33 div.sk-toggleable__content pre {margin: 0.2em;color: black;border-radius: 0.25em;background-color: #f0f8ff;}#sk-container-id-33 input.sk-toggleable__control:checked~div.sk-toggleable__content {max-height: 200px;max-width: 100%;overflow: auto;}#sk-container-id-33 input.sk-toggleable__control:checked~label.sk-toggleable__label-arrow:before {content: \"▾\";}#sk-container-id-33 div.sk-estimator input.sk-toggleable__control:checked~label.sk-toggleable__label {background-color: #d4ebff;}#sk-container-id-33 div.sk-label input.sk-toggleable__control:checked~label.sk-toggleable__label {background-color: #d4ebff;}#sk-container-id-33 input.sk-hidden--visually {border: 0;clip: rect(1px 1px 1px 1px);clip: rect(1px, 1px, 1px, 1px);height: 1px;margin: -1px;overflow: hidden;padding: 0;position: absolute;width: 1px;}#sk-container-id-33 div.sk-estimator {font-family: monospace;background-color: #f0f8ff;border: 1px dotted black;border-radius: 0.25em;box-sizing: border-box;margin-bottom: 0.5em;}#sk-container-id-33 div.sk-estimator:hover {background-color: #d4ebff;}#sk-container-id-33 div.sk-parallel-item::after {content: \"\";width: 100%;border-bottom: 1px solid gray;flex-grow: 1;}#sk-container-id-33 div.sk-label:hover label.sk-toggleable__label {background-color: #d4ebff;}#sk-container-id-33 div.sk-serial::before {content: \"\";position: absolute;border-left: 1px solid gray;box-sizing: border-box;top: 0;bottom: 0;left: 50%;z-index: 0;}#sk-container-id-33 div.sk-serial {display: flex;flex-direction: column;align-items: center;background-color: white;padding-right: 0.2em;padding-left: 0.2em;position: relative;}#sk-container-id-33 div.sk-item {position: relative;z-index: 1;}#sk-container-id-33 div.sk-parallel {display: flex;align-items: stretch;justify-content: center;background-color: white;position: relative;}#sk-container-id-33 div.sk-item::before, #sk-container-id-33 div.sk-parallel-item::before {content: \"\";position: absolute;border-left: 1px solid gray;box-sizing: border-box;top: 0;bottom: 0;left: 50%;z-index: -1;}#sk-container-id-33 div.sk-parallel-item {display: flex;flex-direction: column;z-index: 1;position: relative;background-color: white;}#sk-container-id-33 div.sk-parallel-item:first-child::after {align-self: flex-end;width: 50%;}#sk-container-id-33 div.sk-parallel-item:last-child::after {align-self: flex-start;width: 50%;}#sk-container-id-33 div.sk-parallel-item:only-child::after {width: 0;}#sk-container-id-33 div.sk-dashed-wrapped {border: 1px dashed gray;margin: 0 0.4em 0.5em 0.4em;box-sizing: border-box;padding-bottom: 0.4em;background-color: white;}#sk-container-id-33 div.sk-label label {font-family: monospace;font-weight: bold;display: inline-block;line-height: 1.2em;}#sk-container-id-33 div.sk-label-container {text-align: center;}#sk-container-id-33 div.sk-container {/* jupyter's `normalize.less` sets `[hidden] { display: none; }` but bootstrap.min.css set `[hidden] { display: none !important; }` so we also need the `!important` here to be able to override the default hidden behavior on the sphinx rendered scikit-learn.org. See: https://github.com/scikit-learn/scikit-learn/issues/21755 */display: inline-block !important;position: relative;}#sk-container-id-33 div.sk-text-repr-fallback {display: none;}</style><div id=\"sk-container-id-33\" class=\"sk-top-container\"><div class=\"sk-text-repr-fallback\"><pre>RandomForestRegressor(max_depth=32, random_state=42)</pre><b>In a Jupyter environment, please rerun this cell to show the HTML representation or trust the notebook. <br />On GitHub, the HTML representation is unable to render, please try loading this page with nbviewer.org.</b></div><div class=\"sk-container\" hidden><div class=\"sk-item\"><div class=\"sk-estimator sk-toggleable\"><input class=\"sk-toggleable__control sk-hidden--visually\" id=\"sk-estimator-id-63\" type=\"checkbox\" checked><label for=\"sk-estimator-id-63\" class=\"sk-toggleable__label sk-toggleable__label-arrow\">RandomForestRegressor</label><div class=\"sk-toggleable__content\"><pre>RandomForestRegressor(max_depth=32, random_state=42)</pre></div></div></div></div></div>"
      ],
      "text/plain": [
       "RandomForestRegressor(max_depth=32, random_state=42)"
      ]
     },
     "execution_count": 1687,
     "metadata": {},
     "output_type": "execute_result"
    }
   ],
   "source": [
    "# Training a Random Forest Model\n",
    "regressor = RandomForestRegressor(n_estimators = 100, max_depth = 32, random_state = 42)\n",
    "regressor.fit(X_train, y_train)"
   ]
  },
  {
   "cell_type": "code",
   "execution_count": 1688,
   "id": "bd99b28e",
   "metadata": {},
   "outputs": [
    {
     "data": {
      "text/plain": [
       "array([[1.22769696, 1.80405717],\n",
       "       [1.22769696, 1.80405717],\n",
       "       [1.50445826, 2.51730398],\n",
       "       [1.22769696, 1.80405717],\n",
       "       [1.6733619 , 2.51913333],\n",
       "       [1.22769696, 1.80405717],\n",
       "       [1.17044   , 1.79378   ],\n",
       "       [1.00877286, 1.84522286],\n",
       "       [1.30698805, 1.76753569],\n",
       "       [0.8746081 , 2.04092381],\n",
       "       [0.8746081 , 2.04092381],\n",
       "       [1.10328952, 1.91645619],\n",
       "       [1.16378333, 1.78610667],\n",
       "       [1.00877286, 1.84522286],\n",
       "       [0.81437905, 2.25235714],\n",
       "       [0.96573429, 1.95747905],\n",
       "       [1.50445826, 2.51730398],\n",
       "       [1.17044   , 1.79378   ],\n",
       "       [1.16378333, 1.78610667],\n",
       "       [1.10328952, 1.91645619]])"
      ]
     },
     "execution_count": 1688,
     "metadata": {},
     "output_type": "execute_result"
    }
   ],
   "source": [
    "# Making Predictions\n",
    "y_pred = regressor.predict(X_test)\n",
    "y_pred"
   ]
  },
  {
   "cell_type": "code",
   "execution_count": 1689,
   "id": "a31e0923",
   "metadata": {},
   "outputs": [
    {
     "name": "stdout",
     "output_type": "stream",
     "text": [
      "R2: 0.94\n"
     ]
    }
   ],
   "source": [
    "# Calculating R2 - the value of the coefficient of determination for the expected test model\n",
    "r2 = r2_score(y_true = y_test, y_pred = y_pred)\n",
    "print(f'R2: {r2:.2f}')"
   ]
  },
  {
   "cell_type": "code",
   "execution_count": 1690,
   "id": "0c31abeb",
   "metadata": {},
   "outputs": [
    {
     "name": "stdout",
     "output_type": "stream",
     "text": [
      "Random Forest Model:\n",
      "Mean absolute error: 0.05\n",
      "Mean squared error: 0.00\n",
      "Root mean squared error: 0.06\n"
     ]
    }
   ],
   "source": [
    "# Evaluating the Model\n",
    "mae = mean_absolute_error(y_test, y_pred)\n",
    "mse = mean_squared_error(y_test, y_pred)\n",
    "rmse = np.sqrt(mse)\n",
    "print('Random Forest Model:')\n",
    "print(f'Mean absolute error: {mae:.2f}')\n",
    "print(f'Mean squared error: {mse:.2f}')\n",
    "print(f'Root mean squared error: {rmse:.2f}')"
   ]
  },
  {
   "cell_type": "code",
   "execution_count": 1691,
   "id": "20796d3a",
   "metadata": {},
   "outputs": [
    {
     "data": {
      "text/html": [
       "<style>#sk-container-id-34 {color: black;background-color: white;}#sk-container-id-34 pre{padding: 0;}#sk-container-id-34 div.sk-toggleable {background-color: white;}#sk-container-id-34 label.sk-toggleable__label {cursor: pointer;display: block;width: 100%;margin-bottom: 0;padding: 0.3em;box-sizing: border-box;text-align: center;}#sk-container-id-34 label.sk-toggleable__label-arrow:before {content: \"▸\";float: left;margin-right: 0.25em;color: #696969;}#sk-container-id-34 label.sk-toggleable__label-arrow:hover:before {color: black;}#sk-container-id-34 div.sk-estimator:hover label.sk-toggleable__label-arrow:before {color: black;}#sk-container-id-34 div.sk-toggleable__content {max-height: 0;max-width: 0;overflow: hidden;text-align: left;background-color: #f0f8ff;}#sk-container-id-34 div.sk-toggleable__content pre {margin: 0.2em;color: black;border-radius: 0.25em;background-color: #f0f8ff;}#sk-container-id-34 input.sk-toggleable__control:checked~div.sk-toggleable__content {max-height: 200px;max-width: 100%;overflow: auto;}#sk-container-id-34 input.sk-toggleable__control:checked~label.sk-toggleable__label-arrow:before {content: \"▾\";}#sk-container-id-34 div.sk-estimator input.sk-toggleable__control:checked~label.sk-toggleable__label {background-color: #d4ebff;}#sk-container-id-34 div.sk-label input.sk-toggleable__control:checked~label.sk-toggleable__label {background-color: #d4ebff;}#sk-container-id-34 input.sk-hidden--visually {border: 0;clip: rect(1px 1px 1px 1px);clip: rect(1px, 1px, 1px, 1px);height: 1px;margin: -1px;overflow: hidden;padding: 0;position: absolute;width: 1px;}#sk-container-id-34 div.sk-estimator {font-family: monospace;background-color: #f0f8ff;border: 1px dotted black;border-radius: 0.25em;box-sizing: border-box;margin-bottom: 0.5em;}#sk-container-id-34 div.sk-estimator:hover {background-color: #d4ebff;}#sk-container-id-34 div.sk-parallel-item::after {content: \"\";width: 100%;border-bottom: 1px solid gray;flex-grow: 1;}#sk-container-id-34 div.sk-label:hover label.sk-toggleable__label {background-color: #d4ebff;}#sk-container-id-34 div.sk-serial::before {content: \"\";position: absolute;border-left: 1px solid gray;box-sizing: border-box;top: 0;bottom: 0;left: 50%;z-index: 0;}#sk-container-id-34 div.sk-serial {display: flex;flex-direction: column;align-items: center;background-color: white;padding-right: 0.2em;padding-left: 0.2em;position: relative;}#sk-container-id-34 div.sk-item {position: relative;z-index: 1;}#sk-container-id-34 div.sk-parallel {display: flex;align-items: stretch;justify-content: center;background-color: white;position: relative;}#sk-container-id-34 div.sk-item::before, #sk-container-id-34 div.sk-parallel-item::before {content: \"\";position: absolute;border-left: 1px solid gray;box-sizing: border-box;top: 0;bottom: 0;left: 50%;z-index: -1;}#sk-container-id-34 div.sk-parallel-item {display: flex;flex-direction: column;z-index: 1;position: relative;background-color: white;}#sk-container-id-34 div.sk-parallel-item:first-child::after {align-self: flex-end;width: 50%;}#sk-container-id-34 div.sk-parallel-item:last-child::after {align-self: flex-start;width: 50%;}#sk-container-id-34 div.sk-parallel-item:only-child::after {width: 0;}#sk-container-id-34 div.sk-dashed-wrapped {border: 1px dashed gray;margin: 0 0.4em 0.5em 0.4em;box-sizing: border-box;padding-bottom: 0.4em;background-color: white;}#sk-container-id-34 div.sk-label label {font-family: monospace;font-weight: bold;display: inline-block;line-height: 1.2em;}#sk-container-id-34 div.sk-label-container {text-align: center;}#sk-container-id-34 div.sk-container {/* jupyter's `normalize.less` sets `[hidden] { display: none; }` but bootstrap.min.css set `[hidden] { display: none !important; }` so we also need the `!important` here to be able to override the default hidden behavior on the sphinx rendered scikit-learn.org. See: https://github.com/scikit-learn/scikit-learn/issues/21755 */display: inline-block !important;position: relative;}#sk-container-id-34 div.sk-text-repr-fallback {display: none;}</style><div id=\"sk-container-id-34\" class=\"sk-top-container\"><div class=\"sk-text-repr-fallback\"><pre>MultiOutputRegressor(estimator=GradientBoostingRegressor(random_state=42))</pre><b>In a Jupyter environment, please rerun this cell to show the HTML representation or trust the notebook. <br />On GitHub, the HTML representation is unable to render, please try loading this page with nbviewer.org.</b></div><div class=\"sk-container\" hidden><div class=\"sk-item sk-dashed-wrapped\"><div class=\"sk-label-container\"><div class=\"sk-label sk-toggleable\"><input class=\"sk-toggleable__control sk-hidden--visually\" id=\"sk-estimator-id-64\" type=\"checkbox\" ><label for=\"sk-estimator-id-64\" class=\"sk-toggleable__label sk-toggleable__label-arrow\">MultiOutputRegressor</label><div class=\"sk-toggleable__content\"><pre>MultiOutputRegressor(estimator=GradientBoostingRegressor(random_state=42))</pre></div></div></div><div class=\"sk-parallel\"><div class=\"sk-parallel-item\"><div class=\"sk-item\"><div class=\"sk-label-container\"><div class=\"sk-label sk-toggleable\"><input class=\"sk-toggleable__control sk-hidden--visually\" id=\"sk-estimator-id-65\" type=\"checkbox\" ><label for=\"sk-estimator-id-65\" class=\"sk-toggleable__label sk-toggleable__label-arrow\">estimator: GradientBoostingRegressor</label><div class=\"sk-toggleable__content\"><pre>GradientBoostingRegressor(random_state=42)</pre></div></div></div><div class=\"sk-serial\"><div class=\"sk-item\"><div class=\"sk-estimator sk-toggleable\"><input class=\"sk-toggleable__control sk-hidden--visually\" id=\"sk-estimator-id-66\" type=\"checkbox\" ><label for=\"sk-estimator-id-66\" class=\"sk-toggleable__label sk-toggleable__label-arrow\">GradientBoostingRegressor</label><div class=\"sk-toggleable__content\"><pre>GradientBoostingRegressor(random_state=42)</pre></div></div></div></div></div></div></div></div></div></div>"
      ],
      "text/plain": [
       "MultiOutputRegressor(estimator=GradientBoostingRegressor(random_state=42))"
      ]
     },
     "execution_count": 1691,
     "metadata": {},
     "output_type": "execute_result"
    }
   ],
   "source": [
    "# Training a Gradient Boosting Model\n",
    "regressor = MultiOutputRegressor(GradientBoostingRegressor(n_estimators = 100, random_state = 42))\n",
    "regressor.fit(X_train, y_train)"
   ]
  },
  {
   "cell_type": "code",
   "execution_count": 1692,
   "id": "040b475b",
   "metadata": {},
   "outputs": [
    {
     "data": {
      "text/plain": [
       "array([[1.23434894, 1.80787964],\n",
       "       [1.23434894, 1.80787964],\n",
       "       [1.48406839, 2.51584188],\n",
       "       [1.23434894, 1.80787964],\n",
       "       [1.68111377, 2.51924451],\n",
       "       [1.23434894, 1.80787964],\n",
       "       [1.17334915, 1.79197007],\n",
       "       [0.99469568, 1.84658007],\n",
       "       [1.3141083 , 1.76541828],\n",
       "       [0.87030906, 2.03943217],\n",
       "       [0.87030906, 2.03943217],\n",
       "       [1.15712768, 1.96144551],\n",
       "       [1.16753837, 1.79120146],\n",
       "       [0.99469568, 1.84658007],\n",
       "       [0.81408549, 2.25271884],\n",
       "       [0.95362944, 1.9598808 ],\n",
       "       [1.48406839, 2.51584188],\n",
       "       [1.17334915, 1.79197007],\n",
       "       [1.16753837, 1.79120146],\n",
       "       [1.15712768, 1.96144551]])"
      ]
     },
     "execution_count": 1692,
     "metadata": {},
     "output_type": "execute_result"
    }
   ],
   "source": [
    "# Making Predictions\n",
    "y_pred = regressor.predict(X_test)\n",
    "y_pred"
   ]
  },
  {
   "cell_type": "code",
   "execution_count": 1693,
   "id": "1e2f8c78",
   "metadata": {},
   "outputs": [
    {
     "name": "stdout",
     "output_type": "stream",
     "text": [
      "R2: 0.95\n"
     ]
    }
   ],
   "source": [
    "# Calculating R2 - the value of the coefficient of determination for the expected test model\n",
    "r2 = r2_score(y_true = y_test, y_pred = y_pred)\n",
    "print(f'R2: {r2:.2f}')"
   ]
  },
  {
   "cell_type": "code",
   "execution_count": 1694,
   "id": "c8c6f558",
   "metadata": {},
   "outputs": [
    {
     "name": "stdout",
     "output_type": "stream",
     "text": [
      "Gradient Boosting Model:\n",
      "Mean absolute error: 0.04\n",
      "Mean squared error: 0.00\n",
      "Root mean squared error: 0.06\n"
     ]
    }
   ],
   "source": [
    "# Evaluating the Model\n",
    "mae = mean_absolute_error(y_test, y_pred)\n",
    "mse = mean_squared_error(y_test, y_pred)\n",
    "rmse = np.sqrt(mse)\n",
    "print('Gradient Boosting Model:')\n",
    "print(f'Mean absolute error: {mae:.2f}')\n",
    "print(f'Mean squared error: {mse:.2f}')\n",
    "print(f'Root mean squared error: {rmse:.2f}')"
   ]
  }
 ],
 "metadata": {
  "kernelspec": {
   "display_name": "Python 3 (ipykernel)",
   "language": "python",
   "name": "python3"
  },
  "language_info": {
   "codemirror_mode": {
    "name": "ipython",
    "version": 3
   },
   "file_extension": ".py",
   "mimetype": "text/x-python",
   "name": "python",
   "nbconvert_exporter": "python",
   "pygments_lexer": "ipython3",
   "version": "3.10.6"
  }
 },
 "nbformat": 4,
 "nbformat_minor": 5
}
